{
 "cells": [
  {
   "cell_type": "code",
   "execution_count": 1,
   "metadata": {
    "colab": {
     "base_uri": "https://localhost:8080/"
    },
    "id": "PsIEGsUevk7w",
    "outputId": "631525fd-8580-43d8-dee6-f99f54564a2b",
    "pycharm": {
     "is_executing": true
    }
   },
   "outputs": [
    {
     "output_type": "stream",
     "name": "stdout",
     "text": [
      "Collecting openkiwi\n",
      "  Downloading openkiwi-2.1.0-py3-none-any.whl (186 kB)\n",
      "\u001B[?25l\r\u001B[K     |█▊                              | 10 kB 20.0 MB/s eta 0:00:01\r\u001B[K     |███▌                            | 20 kB 9.9 MB/s eta 0:00:01\r\u001B[K     |█████▎                          | 30 kB 8.4 MB/s eta 0:00:01\r\u001B[K     |███████                         | 40 kB 7.8 MB/s eta 0:00:01\r\u001B[K     |████████▉                       | 51 kB 4.7 MB/s eta 0:00:01\r\u001B[K     |██████████▌                     | 61 kB 5.6 MB/s eta 0:00:01\r\u001B[K     |████████████▎                   | 71 kB 5.5 MB/s eta 0:00:01\r\u001B[K     |██████████████                  | 81 kB 5.4 MB/s eta 0:00:01\r\u001B[K     |███████████████▉                | 92 kB 6.0 MB/s eta 0:00:01\r\u001B[K     |█████████████████▋              | 102 kB 5.4 MB/s eta 0:00:01\r\u001B[K     |███████████████████▎            | 112 kB 5.4 MB/s eta 0:00:01\r\u001B[K     |█████████████████████           | 122 kB 5.4 MB/s eta 0:00:01\r\u001B[K     |██████████████████████▉         | 133 kB 5.4 MB/s eta 0:00:01\r\u001B[K     |████████████████████████▋       | 143 kB 5.4 MB/s eta 0:00:01\r\u001B[K     |██████████████████████████▍     | 153 kB 5.4 MB/s eta 0:00:01\r\u001B[K     |████████████████████████████▏   | 163 kB 5.4 MB/s eta 0:00:01\r\u001B[K     |█████████████████████████████▉  | 174 kB 5.4 MB/s eta 0:00:01\r\u001B[K     |███████████████████████████████▋| 184 kB 5.4 MB/s eta 0:00:01\r\u001B[K     |████████████████████████████████| 186 kB 5.4 MB/s \n",
      "\u001B[?25hCollecting pytorch-nlp<0.6.0,>=0.5.0\n",
      "  Downloading pytorch_nlp-0.5.0-py3-none-any.whl (90 kB)\n",
      "\u001B[K     |████████████████████████████████| 90 kB 8.4 MB/s \n",
      "\u001B[?25hCollecting pytorch-lightning<0.9.0,>=0.8.4\n",
      "  Downloading pytorch_lightning-0.8.5-py3-none-any.whl (313 kB)\n",
      "\u001B[K     |████████████████████████████████| 313 kB 46.8 MB/s \n",
      "\u001B[?25hCollecting pyyaml<6.0.0,>=5.1.2\n",
      "  Downloading PyYAML-5.4.1-cp37-cp37m-manylinux1_x86_64.whl (636 kB)\n",
      "\u001B[K     |████████████████████████████████| 636 kB 44.6 MB/s \n",
      "\u001B[?25hCollecting transformers<4.0.0,>=3.0.2\n",
      "  Downloading transformers-3.5.1-py3-none-any.whl (1.3 MB)\n",
      "\u001B[K     |████████████████████████████████| 1.3 MB 37.0 MB/s \n",
      "\u001B[?25hRequirement already satisfied: more-itertools<9.0.0,>=8.0.0 in /usr/local/lib/python3.7/dist-packages (from openkiwi) (8.12.0)\n",
      "Collecting pydantic<2.0,>=1.5\n",
      "  Downloading pydantic-1.9.0-cp37-cp37m-manylinux_2_17_x86_64.manylinux2014_x86_64.whl (10.9 MB)\n",
      "\u001B[K     |████████████████████████████████| 10.9 MB 36.6 MB/s \n",
      "\u001B[?25hRequirement already satisfied: tqdm<5.0,>=4.29 in /usr/local/lib/python3.7/dist-packages (from openkiwi) (4.64.0)\n",
      "Collecting torch<1.7.0,>=1.4.0\n",
      "  Downloading torch-1.6.0-cp37-cp37m-manylinux1_x86_64.whl (748.8 MB)\n",
      "\u001B[K     |████████████████████████████████| 748.8 MB 18 kB/s \n",
      "\u001B[?25hRequirement already satisfied: scipy<2.0,>=1.2 in /usr/local/lib/python3.7/dist-packages (from openkiwi) (1.4.1)\n",
      "Requirement already satisfied: numpy<2.0,>=1.18 in /usr/local/lib/python3.7/dist-packages (from openkiwi) (1.21.6)\n",
      "Collecting hydra-core<0.12.0,>=0.11.3\n",
      "  Downloading hydra_core-0.11.3-py3-none-any.whl (72 kB)\n",
      "\u001B[K     |████████████████████████████████| 72 kB 502 kB/s \n",
      "\u001B[?25hRequirement already satisfied: docopt<0.7.0,>=0.6.2 in /usr/local/lib/python3.7/dist-packages (from openkiwi) (0.6.2)\n",
      "Collecting omegaconf<2.0.0,>=1.4.1\n",
      "  Downloading omegaconf-1.4.1-py3-none-any.whl (14 kB)\n",
      "Collecting typing-extensions<4.0.0,>=3.7.4\n",
      "  Downloading typing_extensions-3.10.0.2-py3-none-any.whl (26 kB)\n",
      "Requirement already satisfied: six in /usr/local/lib/python3.7/dist-packages (from omegaconf<2.0.0,>=1.4.1->openkiwi) (1.15.0)\n",
      "Collecting future>=0.17.1\n",
      "  Downloading future-0.18.2.tar.gz (829 kB)\n",
      "\u001B[K     |████████████████████████████████| 829 kB 45.3 MB/s \n",
      "\u001B[?25hRequirement already satisfied: tensorboard>=1.14 in /usr/local/lib/python3.7/dist-packages (from pytorch-lightning<0.9.0,>=0.8.4->openkiwi) (2.8.0)\n",
      "Requirement already satisfied: protobuf>=3.6.0 in /usr/local/lib/python3.7/dist-packages (from tensorboard>=1.14->pytorch-lightning<0.9.0,>=0.8.4->openkiwi) (3.17.3)\n",
      "Requirement already satisfied: tensorboard-data-server<0.7.0,>=0.6.0 in /usr/local/lib/python3.7/dist-packages (from tensorboard>=1.14->pytorch-lightning<0.9.0,>=0.8.4->openkiwi) (0.6.1)\n",
      "Requirement already satisfied: requests<3,>=2.21.0 in /usr/local/lib/python3.7/dist-packages (from tensorboard>=1.14->pytorch-lightning<0.9.0,>=0.8.4->openkiwi) (2.23.0)\n",
      "Requirement already satisfied: google-auth-oauthlib<0.5,>=0.4.1 in /usr/local/lib/python3.7/dist-packages (from tensorboard>=1.14->pytorch-lightning<0.9.0,>=0.8.4->openkiwi) (0.4.6)\n",
      "Requirement already satisfied: wheel>=0.26 in /usr/local/lib/python3.7/dist-packages (from tensorboard>=1.14->pytorch-lightning<0.9.0,>=0.8.4->openkiwi) (0.37.1)\n",
      "Requirement already satisfied: absl-py>=0.4 in /usr/local/lib/python3.7/dist-packages (from tensorboard>=1.14->pytorch-lightning<0.9.0,>=0.8.4->openkiwi) (1.0.0)\n",
      "Requirement already satisfied: tensorboard-plugin-wit>=1.6.0 in /usr/local/lib/python3.7/dist-packages (from tensorboard>=1.14->pytorch-lightning<0.9.0,>=0.8.4->openkiwi) (1.8.1)\n",
      "Requirement already satisfied: grpcio>=1.24.3 in /usr/local/lib/python3.7/dist-packages (from tensorboard>=1.14->pytorch-lightning<0.9.0,>=0.8.4->openkiwi) (1.44.0)\n",
      "Requirement already satisfied: setuptools>=41.0.0 in /usr/local/lib/python3.7/dist-packages (from tensorboard>=1.14->pytorch-lightning<0.9.0,>=0.8.4->openkiwi) (57.4.0)\n",
      "Requirement already satisfied: google-auth<3,>=1.6.3 in /usr/local/lib/python3.7/dist-packages (from tensorboard>=1.14->pytorch-lightning<0.9.0,>=0.8.4->openkiwi) (1.35.0)\n",
      "Requirement already satisfied: markdown>=2.6.8 in /usr/local/lib/python3.7/dist-packages (from tensorboard>=1.14->pytorch-lightning<0.9.0,>=0.8.4->openkiwi) (3.3.6)\n",
      "Requirement already satisfied: werkzeug>=0.11.15 in /usr/local/lib/python3.7/dist-packages (from tensorboard>=1.14->pytorch-lightning<0.9.0,>=0.8.4->openkiwi) (1.0.1)\n",
      "Requirement already satisfied: rsa<5,>=3.1.4 in /usr/local/lib/python3.7/dist-packages (from google-auth<3,>=1.6.3->tensorboard>=1.14->pytorch-lightning<0.9.0,>=0.8.4->openkiwi) (4.8)\n",
      "Requirement already satisfied: cachetools<5.0,>=2.0.0 in /usr/local/lib/python3.7/dist-packages (from google-auth<3,>=1.6.3->tensorboard>=1.14->pytorch-lightning<0.9.0,>=0.8.4->openkiwi) (4.2.4)\n",
      "Requirement already satisfied: pyasn1-modules>=0.2.1 in /usr/local/lib/python3.7/dist-packages (from google-auth<3,>=1.6.3->tensorboard>=1.14->pytorch-lightning<0.9.0,>=0.8.4->openkiwi) (0.2.8)\n",
      "Requirement already satisfied: requests-oauthlib>=0.7.0 in /usr/local/lib/python3.7/dist-packages (from google-auth-oauthlib<0.5,>=0.4.1->tensorboard>=1.14->pytorch-lightning<0.9.0,>=0.8.4->openkiwi) (1.3.1)\n",
      "Requirement already satisfied: importlib-metadata>=4.4 in /usr/local/lib/python3.7/dist-packages (from markdown>=2.6.8->tensorboard>=1.14->pytorch-lightning<0.9.0,>=0.8.4->openkiwi) (4.11.3)\n",
      "Requirement already satisfied: zipp>=0.5 in /usr/local/lib/python3.7/dist-packages (from importlib-metadata>=4.4->markdown>=2.6.8->tensorboard>=1.14->pytorch-lightning<0.9.0,>=0.8.4->openkiwi) (3.8.0)\n",
      "Requirement already satisfied: pyasn1<0.5.0,>=0.4.6 in /usr/local/lib/python3.7/dist-packages (from pyasn1-modules>=0.2.1->google-auth<3,>=1.6.3->tensorboard>=1.14->pytorch-lightning<0.9.0,>=0.8.4->openkiwi) (0.4.8)\n",
      "Requirement already satisfied: certifi>=2017.4.17 in /usr/local/lib/python3.7/dist-packages (from requests<3,>=2.21.0->tensorboard>=1.14->pytorch-lightning<0.9.0,>=0.8.4->openkiwi) (2021.10.8)\n",
      "Requirement already satisfied: urllib3!=1.25.0,!=1.25.1,<1.26,>=1.21.1 in /usr/local/lib/python3.7/dist-packages (from requests<3,>=2.21.0->tensorboard>=1.14->pytorch-lightning<0.9.0,>=0.8.4->openkiwi) (1.24.3)\n",
      "Requirement already satisfied: idna<3,>=2.5 in /usr/local/lib/python3.7/dist-packages (from requests<3,>=2.21.0->tensorboard>=1.14->pytorch-lightning<0.9.0,>=0.8.4->openkiwi) (2.10)\n",
      "Requirement already satisfied: chardet<4,>=3.0.2 in /usr/local/lib/python3.7/dist-packages (from requests<3,>=2.21.0->tensorboard>=1.14->pytorch-lightning<0.9.0,>=0.8.4->openkiwi) (3.0.4)\n",
      "Requirement already satisfied: oauthlib>=3.0.0 in /usr/local/lib/python3.7/dist-packages (from requests-oauthlib>=0.7.0->google-auth-oauthlib<0.5,>=0.4.1->tensorboard>=1.14->pytorch-lightning<0.9.0,>=0.8.4->openkiwi) (3.2.0)\n",
      "Collecting sacremoses\n",
      "  Downloading sacremoses-0.0.49-py3-none-any.whl (895 kB)\n",
      "\u001B[K     |████████████████████████████████| 895 kB 46.2 MB/s \n",
      "\u001B[?25hCollecting sentencepiece==0.1.91\n",
      "  Downloading sentencepiece-0.1.91-cp37-cp37m-manylinux1_x86_64.whl (1.1 MB)\n",
      "\u001B[K     |████████████████████████████████| 1.1 MB 45.7 MB/s \n",
      "\u001B[?25hRequirement already satisfied: packaging in /usr/local/lib/python3.7/dist-packages (from transformers<4.0.0,>=3.0.2->openkiwi) (21.3)\n",
      "Collecting tokenizers==0.9.3\n",
      "  Downloading tokenizers-0.9.3-cp37-cp37m-manylinux1_x86_64.whl (2.9 MB)\n",
      "\u001B[K     |████████████████████████████████| 2.9 MB 36.9 MB/s \n",
      "\u001B[?25hRequirement already satisfied: regex!=2019.12.17 in /usr/local/lib/python3.7/dist-packages (from transformers<4.0.0,>=3.0.2->openkiwi) (2019.12.20)\n",
      "Requirement already satisfied: filelock in /usr/local/lib/python3.7/dist-packages (from transformers<4.0.0,>=3.0.2->openkiwi) (3.6.0)\n",
      "Requirement already satisfied: pyparsing!=3.0.5,>=2.0.2 in /usr/local/lib/python3.7/dist-packages (from packaging->transformers<4.0.0,>=3.0.2->openkiwi) (3.0.8)\n",
      "Requirement already satisfied: click in /usr/local/lib/python3.7/dist-packages (from sacremoses->transformers<4.0.0,>=3.0.2->openkiwi) (7.1.2)\n",
      "Requirement already satisfied: joblib in /usr/local/lib/python3.7/dist-packages (from sacremoses->transformers<4.0.0,>=3.0.2->openkiwi) (1.1.0)\n",
      "Building wheels for collected packages: future\n",
      "  Building wheel for future (setup.py) ... \u001B[?25l\u001B[?25hdone\n",
      "  Created wheel for future: filename=future-0.18.2-py3-none-any.whl size=491070 sha256=546a781c337af6086fb6a4488051499ba9b9e2c6717e0598965886157ae424b6\n",
      "  Stored in directory: /root/.cache/pip/wheels/56/b0/fe/4410d17b32f1f0c3cf54cdfb2bc04d7b4b8f4ae377e2229ba0\n",
      "Successfully built future\n",
      "Installing collected packages: typing-extensions, pyyaml, future, torch, tokenizers, sentencepiece, sacremoses, omegaconf, transformers, pytorch-nlp, pytorch-lightning, pydantic, hydra-core, openkiwi\n",
      "  Attempting uninstall: typing-extensions\n",
      "    Found existing installation: typing-extensions 4.2.0\n",
      "    Uninstalling typing-extensions-4.2.0:\n",
      "      Successfully uninstalled typing-extensions-4.2.0\n",
      "  Attempting uninstall: pyyaml\n",
      "    Found existing installation: PyYAML 3.13\n",
      "    Uninstalling PyYAML-3.13:\n",
      "      Successfully uninstalled PyYAML-3.13\n",
      "  Attempting uninstall: future\n",
      "    Found existing installation: future 0.16.0\n",
      "    Uninstalling future-0.16.0:\n",
      "      Successfully uninstalled future-0.16.0\n",
      "  Attempting uninstall: torch\n",
      "    Found existing installation: torch 1.11.0+cu113\n",
      "    Uninstalling torch-1.11.0+cu113:\n",
      "      Successfully uninstalled torch-1.11.0+cu113\n",
      "\u001B[31mERROR: pip's dependency resolver does not currently take into account all the packages that are installed. This behaviour is the source of the following dependency conflicts.\n",
      "tensorflow 2.8.0 requires tf-estimator-nightly==2.8.0.dev2021122109, which is not installed.\n",
      "torchvision 0.12.0+cu113 requires torch==1.11.0, but you have torch 1.6.0 which is incompatible.\n",
      "torchtext 0.12.0 requires torch==1.11.0, but you have torch 1.6.0 which is incompatible.\n",
      "torchaudio 0.11.0+cu113 requires torch==1.11.0, but you have torch 1.6.0 which is incompatible.\u001B[0m\n",
      "Successfully installed future-0.18.2 hydra-core-0.11.3 omegaconf-1.4.1 openkiwi-2.1.0 pydantic-1.9.0 pytorch-lightning-0.8.5 pytorch-nlp-0.5.0 pyyaml-5.4.1 sacremoses-0.0.49 sentencepiece-0.1.91 tokenizers-0.9.3 torch-1.6.0 transformers-3.5.1 typing-extensions-3.10.0.2\n",
      "Collecting torchtext==0.8.0\n",
      "  Downloading torchtext-0.8.0-cp37-cp37m-manylinux1_x86_64.whl (6.9 MB)\n",
      "\u001B[K     |████████████████████████████████| 6.9 MB 4.5 MB/s \n",
      "\u001B[?25hCollecting torch==1.7.0\n",
      "  Downloading torch-1.7.0-cp37-cp37m-manylinux1_x86_64.whl (776.7 MB)\n",
      "\u001B[K     |████████████████████████████████| 776.7 MB 4.8 kB/s \n",
      "\u001B[?25hRequirement already satisfied: pytorch-lightning==0.8.5 in /usr/local/lib/python3.7/dist-packages (0.8.5)\n",
      "Requirement already satisfied: numpy in /usr/local/lib/python3.7/dist-packages (from torchtext==0.8.0) (1.21.6)\n",
      "Requirement already satisfied: requests in /usr/local/lib/python3.7/dist-packages (from torchtext==0.8.0) (2.23.0)\n",
      "Requirement already satisfied: tqdm in /usr/local/lib/python3.7/dist-packages (from torchtext==0.8.0) (4.64.0)\n",
      "Requirement already satisfied: future in /usr/local/lib/python3.7/dist-packages (from torch==1.7.0) (0.18.2)\n",
      "Requirement already satisfied: typing-extensions in /usr/local/lib/python3.7/dist-packages (from torch==1.7.0) (3.10.0.2)\n",
      "Collecting dataclasses\n",
      "  Downloading dataclasses-0.6-py3-none-any.whl (14 kB)\n",
      "Requirement already satisfied: PyYAML>=5.1 in /usr/local/lib/python3.7/dist-packages (from pytorch-lightning==0.8.5) (5.4.1)\n",
      "Requirement already satisfied: tensorboard>=1.14 in /usr/local/lib/python3.7/dist-packages (from pytorch-lightning==0.8.5) (2.8.0)\n",
      "Requirement already satisfied: grpcio>=1.24.3 in /usr/local/lib/python3.7/dist-packages (from tensorboard>=1.14->pytorch-lightning==0.8.5) (1.44.0)\n",
      "Requirement already satisfied: google-auth<3,>=1.6.3 in /usr/local/lib/python3.7/dist-packages (from tensorboard>=1.14->pytorch-lightning==0.8.5) (1.35.0)\n",
      "Requirement already satisfied: setuptools>=41.0.0 in /usr/local/lib/python3.7/dist-packages (from tensorboard>=1.14->pytorch-lightning==0.8.5) (57.4.0)\n",
      "Requirement already satisfied: tensorboard-plugin-wit>=1.6.0 in /usr/local/lib/python3.7/dist-packages (from tensorboard>=1.14->pytorch-lightning==0.8.5) (1.8.1)\n",
      "Requirement already satisfied: markdown>=2.6.8 in /usr/local/lib/python3.7/dist-packages (from tensorboard>=1.14->pytorch-lightning==0.8.5) (3.3.6)\n",
      "Requirement already satisfied: tensorboard-data-server<0.7.0,>=0.6.0 in /usr/local/lib/python3.7/dist-packages (from tensorboard>=1.14->pytorch-lightning==0.8.5) (0.6.1)\n",
      "Requirement already satisfied: absl-py>=0.4 in /usr/local/lib/python3.7/dist-packages (from tensorboard>=1.14->pytorch-lightning==0.8.5) (1.0.0)\n",
      "Requirement already satisfied: werkzeug>=0.11.15 in /usr/local/lib/python3.7/dist-packages (from tensorboard>=1.14->pytorch-lightning==0.8.5) (1.0.1)\n",
      "Requirement already satisfied: wheel>=0.26 in /usr/local/lib/python3.7/dist-packages (from tensorboard>=1.14->pytorch-lightning==0.8.5) (0.37.1)\n",
      "Requirement already satisfied: protobuf>=3.6.0 in /usr/local/lib/python3.7/dist-packages (from tensorboard>=1.14->pytorch-lightning==0.8.5) (3.17.3)\n",
      "Requirement already satisfied: google-auth-oauthlib<0.5,>=0.4.1 in /usr/local/lib/python3.7/dist-packages (from tensorboard>=1.14->pytorch-lightning==0.8.5) (0.4.6)\n",
      "Requirement already satisfied: six in /usr/local/lib/python3.7/dist-packages (from absl-py>=0.4->tensorboard>=1.14->pytorch-lightning==0.8.5) (1.15.0)\n",
      "Requirement already satisfied: rsa<5,>=3.1.4 in /usr/local/lib/python3.7/dist-packages (from google-auth<3,>=1.6.3->tensorboard>=1.14->pytorch-lightning==0.8.5) (4.8)\n",
      "Requirement already satisfied: pyasn1-modules>=0.2.1 in /usr/local/lib/python3.7/dist-packages (from google-auth<3,>=1.6.3->tensorboard>=1.14->pytorch-lightning==0.8.5) (0.2.8)\n",
      "Requirement already satisfied: cachetools<5.0,>=2.0.0 in /usr/local/lib/python3.7/dist-packages (from google-auth<3,>=1.6.3->tensorboard>=1.14->pytorch-lightning==0.8.5) (4.2.4)\n",
      "Requirement already satisfied: requests-oauthlib>=0.7.0 in /usr/local/lib/python3.7/dist-packages (from google-auth-oauthlib<0.5,>=0.4.1->tensorboard>=1.14->pytorch-lightning==0.8.5) (1.3.1)\n",
      "Requirement already satisfied: importlib-metadata>=4.4 in /usr/local/lib/python3.7/dist-packages (from markdown>=2.6.8->tensorboard>=1.14->pytorch-lightning==0.8.5) (4.11.3)\n",
      "Requirement already satisfied: zipp>=0.5 in /usr/local/lib/python3.7/dist-packages (from importlib-metadata>=4.4->markdown>=2.6.8->tensorboard>=1.14->pytorch-lightning==0.8.5) (3.8.0)\n",
      "Requirement already satisfied: pyasn1<0.5.0,>=0.4.6 in /usr/local/lib/python3.7/dist-packages (from pyasn1-modules>=0.2.1->google-auth<3,>=1.6.3->tensorboard>=1.14->pytorch-lightning==0.8.5) (0.4.8)\n",
      "Requirement already satisfied: chardet<4,>=3.0.2 in /usr/local/lib/python3.7/dist-packages (from requests->torchtext==0.8.0) (3.0.4)\n",
      "Requirement already satisfied: idna<3,>=2.5 in /usr/local/lib/python3.7/dist-packages (from requests->torchtext==0.8.0) (2.10)\n",
      "Requirement already satisfied: urllib3!=1.25.0,!=1.25.1,<1.26,>=1.21.1 in /usr/local/lib/python3.7/dist-packages (from requests->torchtext==0.8.0) (1.24.3)\n",
      "Requirement already satisfied: certifi>=2017.4.17 in /usr/local/lib/python3.7/dist-packages (from requests->torchtext==0.8.0) (2021.10.8)\n",
      "Requirement already satisfied: oauthlib>=3.0.0 in /usr/local/lib/python3.7/dist-packages (from requests-oauthlib>=0.7.0->google-auth-oauthlib<0.5,>=0.4.1->tensorboard>=1.14->pytorch-lightning==0.8.5) (3.2.0)\n",
      "Installing collected packages: dataclasses, torch, torchtext\n",
      "  Attempting uninstall: torch\n",
      "    Found existing installation: torch 1.6.0\n",
      "    Uninstalling torch-1.6.0:\n",
      "      Successfully uninstalled torch-1.6.0\n",
      "  Attempting uninstall: torchtext\n",
      "    Found existing installation: torchtext 0.12.0\n",
      "    Uninstalling torchtext-0.12.0:\n",
      "      Successfully uninstalled torchtext-0.12.0\n",
      "\u001B[31mERROR: pip's dependency resolver does not currently take into account all the packages that are installed. This behaviour is the source of the following dependency conflicts.\n",
      "torchvision 0.12.0+cu113 requires torch==1.11.0, but you have torch 1.7.0 which is incompatible.\n",
      "torchaudio 0.11.0+cu113 requires torch==1.11.0, but you have torch 1.7.0 which is incompatible.\n",
      "openkiwi 2.1.0 requires torch<1.7.0,>=1.4.0, but you have torch 1.7.0 which is incompatible.\u001B[0m\n",
      "Successfully installed dataclasses-0.6 torch-1.7.0 torchtext-0.8.0\n"
     ]
    }
   ],
   "source": [
    "!pip install openkiwi\n",
    "!pip install torchtext==0.8.0 torch==1.7.0 pytorch-lightning==0.8.5\n"
   ]
  },
  {
   "cell_type": "code",
   "execution_count": 2,
   "metadata": {
    "id": "SNXq4ujj2PpA",
    "colab": {
     "base_uri": "https://localhost:8080/",
     "height": 81,
     "referenced_widgets": [
      "c27545867de94e3b87b72e502d86536c",
      "eb7c81d9a3e74e29995792daeb3abed9",
      "c000e4af4ee84b789edff35fccb91d59",
      "46466192e9334b86b4bf318859cf7d77",
      "3899670daa544173a164503c8efe51f7",
      "01f4c17028f64d9985827717185a3fa8",
      "248404144072461ca4ca6c6ce32788b1",
      "01296fe59637491bb1acada4c1a11b46",
      "a253a6222e2c4bdfbeca366cf98ac362",
      "c3be2e75d8ec4f03a3b2b530998fc04c",
      "6114a5e9c26c4230882d69a3bbe793f7",
      "8cbeed07b1974c4786b5a6fc4373b66f",
      "2ae7a822f67f4686b20359c439e9e1b3",
      "a532479548da43ae813315746b0639ed",
      "bd7e4e4eac6249bf9826b3f918104099",
      "061c71f814ce49b9a275a95a3105c5e7",
      "49d279364e484068aab29275f85d1784",
      "6657849fe4a24e8e947975dfd06646ef",
      "e7c37b4458c94859bc54c138e2818989",
      "fbd3d8de57ea4ce19f1381aee1a9d1b6",
      "9393f17023c54c8a91b6f9241dbb5949",
      "b231ed4aff3c486c8aa44aa50ea16c8d"
     ]
    },
    "outputId": "25b83ba5-9aa2-4176-825b-b1159d0e0087"
   },
   "outputs": [
    {
     "output_type": "display_data",
     "data": {
      "text/plain": [
       "Downloading:   0%|          | 0.00/625 [00:00<?, ?B/s]"
      ],
      "application/vnd.jupyter.widget-view+json": {
       "version_major": 2,
       "version_minor": 0,
       "model_id": "c27545867de94e3b87b72e502d86536c"
      }
     },
     "metadata": {}
    },
    {
     "output_type": "display_data",
     "data": {
      "text/plain": [
       "Downloading:   0%|          | 0.00/714M [00:00<?, ?B/s]"
      ],
      "application/vnd.jupyter.widget-view+json": {
       "version_major": 2,
       "version_minor": 0,
       "model_id": "8cbeed07b1974c4786b5a6fc4373b66f"
      }
     },
     "metadata": {}
    }
   ],
   "source": [
    "from transformers import BertModel\n",
    "bert = BertModel.from_pretrained('bert-base-multilingual-cased')"
   ]
  },
  {
   "cell_type": "code",
   "execution_count": 3,
   "metadata": {
    "colab": {
     "base_uri": "https://localhost:8080/",
     "height": 192,
     "referenced_widgets": [
      "3806ae179b99482a9c3181aa54209675",
      "07c51ecc31054ef18f549f478857c944",
      "b75869baa48b48d2bb05b4c00ff6eaf9",
      "4fb1704d39f243bca408c63272bd1acb",
      "a211f98a49fc4961ab47f8c2a4b2eacf",
      "998435982aae48bca7e3c2948fee3b6a",
      "6aa2533a0ba34265ae422bc864005a38",
      "e545242a16194fa8b130c4fdb48b795c",
      "992143f81a884b6a9a4dbdb818473089",
      "647291e8305040ed9b083c9364f47de3",
      "90f76dc3a36145eaa9989c67c4485213"
     ]
    },
    "id": "8ZwvZMw58USN",
    "outputId": "ca4affd9-fd97-4d3a-dbd4-c4fb9b691d72"
   },
   "outputs": [
    {
     "output_type": "display_data",
     "data": {
      "text/plain": [
       "Downloading:   0%|          | 0.00/996k [00:00<?, ?B/s]"
      ],
      "application/vnd.jupyter.widget-view+json": {
       "version_major": 2,
       "version_minor": 0,
       "model_id": "3806ae179b99482a9c3181aa54209675"
      }
     },
     "metadata": {}
    },
    {
     "output_type": "stream",
     "name": "stdout",
     "text": [
      "{'input_ids': tensor([[  101, 10747,   119,   102,     0,     0,     0],\n",
      "        [  101, 10747,   119,   102,     0,     0,     0],\n",
      "        [  101, 10747, 30832, 15953, 10238,   119,   102]]), 'token_type_ids': tensor([[0, 0, 0, 0, 0, 0, 0],\n",
      "        [0, 0, 0, 0, 0, 0, 0],\n",
      "        [0, 0, 0, 0, 0, 0, 0]]), 'attention_mask': tensor([[1, 1, 1, 1, 0, 0, 0],\n",
      "        [1, 1, 1, 1, 0, 0, 0],\n",
      "        [1, 1, 1, 1, 1, 1, 1]])}\n",
      "torch.Size([3, 768])\n"
     ]
    }
   ],
   "source": [
    "from transformers import BertTokenizer, BertModel\n",
    "model_name = \"bert-base-multilingual-cased\"\n",
    "tokenizer = BertTokenizer.from_pretrained(model_name)\n",
    "bert = BertModel.from_pretrained(model_name)\n",
    "\n",
    "batch_sentence = ['This.', 'This.', 'Thissentecne.']\n",
    "\n",
    "input_enc = tokenizer(batch_sentence, padding=True, truncation=True, return_tensors='pt')\n",
    "print(input_enc)\n",
    "\n",
    "output = bert(**input_enc)\n",
    "last_hidden_state = output[0]\n",
    "feature = last_hidden_state.mean(dim=1)\n",
    "print(feature.shape)"
   ]
  },
  {
   "cell_type": "code",
   "execution_count": 4,
   "metadata": {
    "colab": {
     "base_uri": "https://localhost:8080/"
    },
    "id": "tVyPzHd19XrN",
    "outputId": "10498714-16bd-443e-ffa4-0cae7bf12a81"
   },
   "outputs": [
    {
     "output_type": "stream",
     "name": "stdout",
     "text": [
      "torch.Size([3, 7, 768])\n"
     ]
    }
   ],
   "source": [
    "print(output[0].shape) ## only use output[0][0]"
   ]
  },
  {
   "cell_type": "code",
   "execution_count": 5,
   "metadata": {
    "colab": {
     "base_uri": "https://localhost:8080/"
    },
    "id": "r5Zhvnok9uyr",
    "outputId": "f492eb80-6a72-4a5a-9a20-2babf49257d8"
   },
   "outputs": [
    {
     "output_type": "stream",
     "name": "stdout",
     "text": [
      "tensor([[ 0.3251, -0.1474,  0.5211,  ..., -0.2515,  0.1768,  0.1284],\n",
      "        [ 0.0993, -0.1326,  0.9122,  ..., -0.2344,  0.2030,  0.1319],\n",
      "        [ 0.3425, -0.1206,  0.7036,  ..., -0.2463, -0.1433,  0.0766],\n",
      "        ...,\n",
      "        [ 0.1638, -0.0412,  0.9428,  ..., -0.3129,  0.1093,  0.0201],\n",
      "        [ 0.3387, -0.0936,  0.8877,  ..., -0.3077,  0.0774,  0.1036],\n",
      "        [ 0.3463, -0.1507,  0.7943,  ..., -0.2378,  0.1089,  0.1300]],\n",
      "       grad_fn=<SelectBackward>)\n"
     ]
    }
   ],
   "source": [
    "print(output[0][0])"
   ]
  },
  {
   "cell_type": "code",
   "execution_count": 6,
   "metadata": {
    "colab": {
     "base_uri": "https://localhost:8080/"
    },
    "id": "cndaYwiummiw",
    "outputId": "d2555f44-e4d1-4865-e2c4-10fda90b0af2"
   },
   "outputs": [
    {
     "output_type": "stream",
     "name": "stdout",
     "text": [
      "Mounted at /content/drive\n"
     ]
    }
   ],
   "source": [
    "from google.colab import drive\n",
    "drive.mount('/content/drive')"
   ]
  },
  {
   "cell_type": "code",
   "execution_count": 7,
   "metadata": {
    "id": "bX0W61hwjlKL"
   },
   "outputs": [],
   "source": [
    "import csv\n",
    "import torch\n",
    "from torch.utils.data import Dataset\n",
    "from torch.utils.data import DataLoader\n",
    "import pandas as pd\n",
    "from torch import nn\n",
    "from transformers.optimization import AdamW\n",
    "from torch import optim"
   ]
  },
  {
   "cell_type": "code",
   "source": [
    "device = torch.device('cuda' if torch.cuda.is_available() else 'cpu')\n",
    "print('Using device:', device)\n",
    "print()"
   ],
   "metadata": {
    "colab": {
     "base_uri": "https://localhost:8080/"
    },
    "id": "E1ljnfqm1iHb",
    "outputId": "b635455a-b249-499e-8719-3c72bdd3404a"
   },
   "execution_count": 8,
   "outputs": [
    {
     "output_type": "stream",
     "name": "stdout",
     "text": [
      "Using device: cuda\n",
      "\n"
     ]
    }
   ]
  },
  {
   "cell_type": "code",
   "execution_count": 9,
   "metadata": {
    "id": "eh1Cpo9zgw5m"
   },
   "outputs": [],
   "source": [
    "def read_annotated_file(path, index=\"index\"):\n",
    "    indices = []\n",
    "    originals = []\n",
    "    translations = []\n",
    "    z_means = []\n",
    "    with open(path, mode=\"r\", encoding=\"utf-8-sig\") as csvfile:\n",
    "        reader = csv.DictReader(csvfile, delimiter=\"\\t\", quoting=csv.QUOTE_NONE)\n",
    "        for row in reader:\n",
    "            indices.append(row[index])\n",
    "            originals.append(row[\"original\"])\n",
    "            translations.append(row[\"translation\"])\n",
    "            z_means.append(float(row[\"z_mean\"]))\n",
    "\n",
    "    return pd.DataFrame(\n",
    "        {'index': indices,\n",
    "         'original': originals,\n",
    "         'translation': translations,\n",
    "         'z_mean': z_means\n",
    "         })\n",
    "\n",
    "def read_test_file(path, index=\"index\"):\n",
    "    indices = []\n",
    "    originals = []\n",
    "    translations = []\n",
    "    with open(path, mode=\"r\", encoding=\"utf-8-sig\") as csvfile:\n",
    "        reader = csv.DictReader(csvfile, delimiter=\"\\t\", quoting=csv.QUOTE_NONE)\n",
    "        for row in reader:\n",
    "            indices.append(row[index])\n",
    "            originals.append(row[\"original\"])\n",
    "            translations.append(row[\"translation\"])\n",
    "\n",
    "    return pd.DataFrame(\n",
    "        {'index': indices,\n",
    "         'original': originals,\n",
    "         'translation': translations,\n",
    "         })"
   ]
  },
  {
   "cell_type": "code",
   "execution_count": 10,
   "metadata": {
    "id": "60aHA4MYfWxm"
   },
   "outputs": [],
   "source": [
    "TRAIN_FILE = \"/content/drive/MyDrive/en-de/train.ende.df.short.tsv\"\n",
    "DEV_FILE = \"/content/drive/MyDrive/en-de/dev.ende.df.short.tsv\"\n",
    "TEST_FILE = \"/content/drive/MyDrive/en-de/test20.ende.df.short.tsv\"\n",
    "train_data = read_annotated_file(TRAIN_FILE)\n",
    "dev_data = read_annotated_file(DEV_FILE)\n",
    "test_data = read_annotated_file(TEST_FILE)\n",
    "train_data = train_data[['original', 'translation', 'z_mean']]\n",
    "dev_data = dev_data[['original', 'translation', 'z_mean']]\n",
    "test_data = test_data[['original', 'translation', 'z_mean']]"
   ]
  },
  {
   "cell_type": "code",
   "execution_count": 11,
   "metadata": {
    "id": "g_U7x_jD7mC6"
   },
   "outputs": [],
   "source": [
    "class QEDataset(Dataset):\n",
    "    def __init__(self, myDataset):\n",
    "        self.dataset = myDataset\n",
    "        self.original = myDataset['original']\n",
    "        self.translation = myDataset['translation']\n",
    "        self.z_mean = myDataset['z_mean']\n",
    "\n",
    "    def __len__(self):\n",
    "        return len(self.dataset)\n",
    "\n",
    "    def __getitem__(self, index):\n",
    "        return (self.original[index], self.translation[index], self.z_mean[index])\n",
    "\n",
    "\n",
    "class QEDataLoader(DataLoader):\n",
    "    def __init__(self, data_dir, batch_size):\n",
    "        dataset = QEDataset(data_dir)\n",
    "        super().__init__(dataset, batch_size=batch_size, collate_fn=self.collate_fn)\n",
    "        return\n",
    "\n",
    "    def collate_fn(self, batch):\n",
    "        src_batch, trg_batch, score_batch = [], [], []\n",
    "        for src_sample, trg_sample, score_sample in batch:\n",
    "            src_batch.append(src_sample)\n",
    "            trg_batch.append(trg_sample)\n",
    "            score_batch.append(score_sample)\n",
    "        # src_batch = pad_sequence(\n",
    "        #     src_batch, padding_value=PAD_IDX, batch_first=True)\n",
    "        # trg_batch = pad_sequence(\n",
    "        #     trg_batch, padding_value=PAD_IDX, batch_first=True)\n",
    "        # score_batch = torch.tensor(score_batch).unsqueeze(-1)\n",
    "        return src_batch, trg_batch, score_batch\n"
   ]
  },
  {
   "cell_type": "code",
   "execution_count": 12,
   "metadata": {
    "id": "QaXgc2GqlUVM"
   },
   "outputs": [],
   "source": [
    "class Mlp(nn.Module):\n",
    "    def __init__(self, in_features, hidden_features=None, out_features=None, act_layer=nn.GELU, drop=0.):\n",
    "        super().__init__()\n",
    "        out_features = out_features or in_features\n",
    "        hidden_features = hidden_features or in_features\n",
    "        self.fc1 = nn.Linear(in_features, hidden_features)\n",
    "        self.act = act_layer()\n",
    "        self.fc2 = nn.Linear(hidden_features, out_features)\n",
    "        self.drop = nn.Dropout(drop)\n",
    "\n",
    "    def forward(self, x):\n",
    "        x = self.fc1(x)\n",
    "        x = self.act(x)\n",
    "        x = self.drop(x)\n",
    "        x = self.fc2(x)\n",
    "        x = self.drop(x)\n",
    "        return x\n",
    "\n",
    "class BertQE(nn.Module):\n",
    "    def __init__(self, hidden_dim=768, model_name=\"bert-base-multilingual-cased\"):\n",
    "        super().__init__()\n",
    "        self.tokenizer = BertTokenizer.from_pretrained(model_name)\n",
    "        self.bert = BertModel.from_pretrained(model_name)\n",
    "        self.linear1 = nn.Linear(hidden_dim, hidden_dim)\n",
    "        self.linear2 = nn.Linear(hidden_dim, hidden_dim)\n",
    "        self.output = Mlp(hidden_dim*2, hidden_dim*2, 1, drop=0.1)\n",
    "\n",
    "    @staticmethod\n",
    "    def merge_input(source, target):\n",
    "        merge_sentence = source + target\n",
    "        return merge_sentence\n",
    "    \n",
    "    def forward(self, batch_sentence):\n",
    "        merge_sentence = self.merge_input(**batch_sentence)\n",
    "        input_enc = self.tokenizer(merge_sentence, padding=True, truncation=True, return_tensors='pt')\n",
    "        input_enc = input_enc.to(device)\n",
    "        output = self.bert(**input_enc)\n",
    "\n",
    "        last_hidden_state = output[0] # bs*2 L C\n",
    "        batch_size = last_hidden_state.shape[0] // 2\n",
    "        source_hidden_state, target_hidden_state = torch.split(last_hidden_state, batch_size, dim=0)\n",
    "        source_feature = self.linear1(source_hidden_state).mean(dim=1, keepdim=True) # bs L C -> bs 1 C\n",
    "        target_feature = self.linear1(target_hidden_state).mean(dim=1, keepdim=True) # bs L C -> bs 1 C\n",
    "        feature = torch.cat([source_feature, target_feature], dim=-1) # bs 1 2C\n",
    "        output = self.output(feature).reshape(-1) # bs 1 1\n",
    "        return output\n"
   ]
  },
  {
   "cell_type": "code",
   "source": [
    ""
   ],
   "metadata": {
    "id": "VJ4x63bLCGyu"
   },
   "execution_count": null,
   "outputs": []
  },
  {
   "cell_type": "code",
   "execution_count": 31,
   "metadata": {
    "id": "4bzFZUkPB2L2"
   },
   "outputs": [],
   "source": [
    "batch_size = 32\n",
    "\n",
    "# Create data loaders.\n",
    "train_dataloader = QEDataLoader(train_data, batch_size=batch_size)\n",
    "dev_dataloader = QEDataLoader(dev_data, batch_size=batch_size)\n",
    "test_dataloader = QEDataLoader(test_data, batch_size=batch_size)\n",
    "loss_fn = nn.MSELoss()\n",
    "model = BertQE().to(device)\n",
    "# optimizer = torch.optim.SGD(model.parameters(), lr=1e-3)\n",
    "optimizer = optim.Adam(model.parameters(), lr=0.0001)\n"
   ]
  },
  {
   "cell_type": "code",
   "source": [
    "torch.cuda.empty_cache()"
   ],
   "metadata": {
    "id": "DqFLIoA0DvL9"
   },
   "execution_count": 14,
   "outputs": []
  },
  {
   "cell_type": "code",
   "execution_count": 16,
   "metadata": {
    "colab": {
     "base_uri": "https://localhost:8080/"
    },
    "id": "PiEipsQHnynE",
    "outputId": "7a578a23-1be3-444b-b9bf-7cecb3065584"
   },
   "outputs": [
    {
     "output_type": "stream",
     "name": "stdout",
     "text": [
      "Loss in the 100 batch is tensor(2.0223, device='cuda:0', grad_fn=<MseLossBackward>)\n",
      "Loss in the 200 batch is tensor(0.6614, device='cuda:0', grad_fn=<MseLossBackward>)\n",
      "Loss in the 219 batch is 0.7008488316037883\n"
     ]
    }
   ],
   "source": [
    "epoc = 1\n",
    "\n",
    "torch.cuda.empty_cache()\n",
    "\n",
    "def train():\n",
    "    for i in range(epoc):\n",
    "        epoch_loss = 0.0\n",
    "        count = 0\n",
    "        for batch, (src_batch, trg_batch, score_batch) in enumerate(train_dataloader):\n",
    "            batch_sentence = dict()\n",
    "            batch_sentence['source'] = src_batch\n",
    "            batch_sentence['target'] = trg_batch\n",
    "            output = model(batch_sentence)\n",
    "            # print(output)\n",
    "            # print(type(output))\n",
    "            # print(type(score_batch))\n",
    "            score_batch = torch.Tensor(score_batch)\n",
    "            score_batch = score_batch.to(device)\n",
    "            loss = loss_fn(output, score_batch)\n",
    "            epoch_loss = epoch_loss + loss.item()\n",
    "            count = count + 1\n",
    "            if count % 100 == 0:\n",
    "                print(\"Loss in the \" + str(count) + \" batch is \" + str(loss.item()))\n",
    "            optimizer.zero_grad()\n",
    "            loss.backward()\n",
    "            optimizer.step()\n",
    "        print(\"Loss in the \" + str(count) + \" batch is \" + str(epoch_loss / count))            \n",
    "\n",
    "if __name__ == '__main__':\n",
    "    train()\n"
   ]
  },
  {
   "cell_type": "code",
   "execution_count": 38,
   "metadata": {
    "id": "Jxffl2UqlUjL",
    "colab": {
     "base_uri": "https://localhost:8080/"
    },
    "outputId": "2916946a-1860-4114-b127-ca8931357225"
   },
   "outputs": [
    {
     "output_type": "stream",
     "name": "stdout",
     "text": [
      "Loss in the 32 batch is 0.4840969294309616\n"
     ]
    }
   ],
   "source": [
    "def test(dataloader, model, loss_fn):\n",
    "    model.eval()\n",
    "    epoch_loss = 0\n",
    "    count = 0\n",
    "    res = torch.ones(1).to(device)\n",
    "    \n",
    "    with torch.no_grad():\n",
    "        for batch, (src_batch, trg_batch, score_batch) in enumerate(dataloader):\n",
    "          batch_sentence = dict()\n",
    "          batch_sentence['source'] = src_batch\n",
    "          batch_sentence['target'] = trg_batch\n",
    "          output = model(batch_sentence)\n",
    "          res = torch.cat((res,output)) \n",
    "          # print(output)\n",
    "          # print(type(output))\n",
    "          # print(type(score_batch))\n",
    "          score_batch = torch.Tensor(score_batch).to(device)\n",
    "          loss = loss_fn(output, score_batch)\n",
    "          epoch_loss = epoch_loss + loss.item()\n",
    "          count = count + 1\n",
    "    print(\"Loss in the \" + str(count) + \" batch is \" + str(epoch_loss / count))\n",
    "    return res\n",
    "\n",
    "if __name__ == '__main__':\n",
    "    res = test(test_dataloader, model,loss_fn)"
   ]
  },
  {
   "cell_type": "code",
   "execution_count": 39,
   "metadata": {
    "id": "6-OiSw3aFwqN",
    "colab": {
     "base_uri": "https://localhost:8080/"
    },
    "outputId": "5b04537e-85bc-4a8d-ea7e-f604599b32d8"
   },
   "outputs": [
    {
     "output_type": "stream",
     "name": "stdout",
     "text": [
      "(1000,)\n",
      "(1000,)\n",
      "-0.038087580409256326\n",
      "-0.11010945035542923\n"
     ]
    }
   ],
   "source": [
    "from scipy import stats\n",
    "\n",
    "res = res[1:]\n",
    "res = res.cpu()\n",
    "res = res.detach().numpy()\n",
    "\n",
    "pr = stats.pearsonr(res,test_data['z_mean'])\n",
    "sp = stats.spearmanr(res,test_data['z_mean'])\n",
    "pr = pr[0]\n",
    "sp = sp[0]\n",
    "\n",
    "print(pr)\n",
    "print(sp)"
   ]
  },
  {
   "cell_type": "code",
   "execution_count": null,
   "metadata": {
    "id": "6V6B02Ec1l5b"
   },
   "outputs": [],
   "source": [
    "from kiwi.lib.pretrain import pretrain_from_file\n",
    "import kiwi"
   ]
  },
  {
   "cell_type": "code",
   "execution_count": null,
   "metadata": {
    "id": "LO1YiZu8kqH2"
   },
   "outputs": [],
   "source": [
    "path = \"MyDrive/Datasets/shared\"\n",
    "model_path = path + \"/estimator_en_de.torch\"\n",
    "data_path = \"/content/drive/MyDrive/Datasets/shared/en-de/train.ende.df.short.tsv\"\n",
    "en_de_df = pd.read_csv(data_path, sep='\\t')\n"
   ]
  },
  {
   "cell_type": "code",
   "execution_count": null,
   "metadata": {
    "id": "28OU5dVKtw69"
   },
   "outputs": [],
   "source": [
    "ori = en_de_df.get(\"original\").to_numpy()\n",
    "trans = en_de_df.get(\"translation\").to_numpy()\n",
    "tar_mean = en_de_df.get(\"mean\").to_numpy()"
   ]
  },
  {
   "cell_type": "code",
   "execution_count": null,
   "metadata": {
    "id": "waqF5ZIt_WI_"
   },
   "outputs": [],
   "source": [
    "def save_config(yaml_config, name):\n",
    "    \"\"\" Writes yaml config to file\"\"\"\n",
    "    with open(name, 'w') as outfile:\n",
    "        yaml.dump(yaml_config, outfile, default_flow_style=False)\n",
    "save_config(\"/content/drive/MyDrive/Datasets/shared/nuqe.yaml\",'nuqe_config.yml')"
   ]
  },
  {
   "cell_type": "code",
   "execution_count": null,
   "metadata": {
    "id": "eyn6Sq1o_l1A"
   },
   "outputs": [],
   "source": [
    "config = '/content/drive/MyDrive/Datasets/shared/nuqe.yaml'\n",
    "run_info = kiwi.lib.train.train_from_file(config)"
   ]
  }
 ],
 "metadata": {
  "accelerator": "GPU",
  "colab": {
   "collapsed_sections": [],
   "name": "Bert_QE.ipynb",
   "provenance": []
  },
  "kernelspec": {
   "display_name": "Python 3",
   "name": "python3"
  },
  "language_info": {
   "name": "python"
  },
  "widgets": {
   "application/vnd.jupyter.widget-state+json": {
    "c27545867de94e3b87b72e502d86536c": {
     "model_module": "@jupyter-widgets/controls",
     "model_name": "HBoxModel",
     "model_module_version": "1.5.0",
     "state": {
      "_dom_classes": [],
      "_model_module": "@jupyter-widgets/controls",
      "_model_module_version": "1.5.0",
      "_model_name": "HBoxModel",
      "_view_count": null,
      "_view_module": "@jupyter-widgets/controls",
      "_view_module_version": "1.5.0",
      "_view_name": "HBoxView",
      "box_style": "",
      "children": [
       "IPY_MODEL_eb7c81d9a3e74e29995792daeb3abed9",
       "IPY_MODEL_c000e4af4ee84b789edff35fccb91d59",
       "IPY_MODEL_46466192e9334b86b4bf318859cf7d77"
      ],
      "layout": "IPY_MODEL_3899670daa544173a164503c8efe51f7"
     }
    },
    "eb7c81d9a3e74e29995792daeb3abed9": {
     "model_module": "@jupyter-widgets/controls",
     "model_name": "HTMLModel",
     "model_module_version": "1.5.0",
     "state": {
      "_dom_classes": [],
      "_model_module": "@jupyter-widgets/controls",
      "_model_module_version": "1.5.0",
      "_model_name": "HTMLModel",
      "_view_count": null,
      "_view_module": "@jupyter-widgets/controls",
      "_view_module_version": "1.5.0",
      "_view_name": "HTMLView",
      "description": "",
      "description_tooltip": null,
      "layout": "IPY_MODEL_01f4c17028f64d9985827717185a3fa8",
      "placeholder": "​",
      "style": "IPY_MODEL_248404144072461ca4ca6c6ce32788b1",
      "value": "Downloading: 100%"
     }
    },
    "c000e4af4ee84b789edff35fccb91d59": {
     "model_module": "@jupyter-widgets/controls",
     "model_name": "FloatProgressModel",
     "model_module_version": "1.5.0",
     "state": {
      "_dom_classes": [],
      "_model_module": "@jupyter-widgets/controls",
      "_model_module_version": "1.5.0",
      "_model_name": "FloatProgressModel",
      "_view_count": null,
      "_view_module": "@jupyter-widgets/controls",
      "_view_module_version": "1.5.0",
      "_view_name": "ProgressView",
      "bar_style": "success",
      "description": "",
      "description_tooltip": null,
      "layout": "IPY_MODEL_01296fe59637491bb1acada4c1a11b46",
      "max": 625,
      "min": 0,
      "orientation": "horizontal",
      "style": "IPY_MODEL_a253a6222e2c4bdfbeca366cf98ac362",
      "value": 625
     }
    },
    "46466192e9334b86b4bf318859cf7d77": {
     "model_module": "@jupyter-widgets/controls",
     "model_name": "HTMLModel",
     "model_module_version": "1.5.0",
     "state": {
      "_dom_classes": [],
      "_model_module": "@jupyter-widgets/controls",
      "_model_module_version": "1.5.0",
      "_model_name": "HTMLModel",
      "_view_count": null,
      "_view_module": "@jupyter-widgets/controls",
      "_view_module_version": "1.5.0",
      "_view_name": "HTMLView",
      "description": "",
      "description_tooltip": null,
      "layout": "IPY_MODEL_c3be2e75d8ec4f03a3b2b530998fc04c",
      "placeholder": "​",
      "style": "IPY_MODEL_6114a5e9c26c4230882d69a3bbe793f7",
      "value": " 625/625 [00:00&lt;00:00, 4.12kB/s]"
     }
    },
    "3899670daa544173a164503c8efe51f7": {
     "model_module": "@jupyter-widgets/base",
     "model_name": "LayoutModel",
     "model_module_version": "1.2.0",
     "state": {
      "_model_module": "@jupyter-widgets/base",
      "_model_module_version": "1.2.0",
      "_model_name": "LayoutModel",
      "_view_count": null,
      "_view_module": "@jupyter-widgets/base",
      "_view_module_version": "1.2.0",
      "_view_name": "LayoutView",
      "align_content": null,
      "align_items": null,
      "align_self": null,
      "border": null,
      "bottom": null,
      "display": null,
      "flex": null,
      "flex_flow": null,
      "grid_area": null,
      "grid_auto_columns": null,
      "grid_auto_flow": null,
      "grid_auto_rows": null,
      "grid_column": null,
      "grid_gap": null,
      "grid_row": null,
      "grid_template_areas": null,
      "grid_template_columns": null,
      "grid_template_rows": null,
      "height": null,
      "justify_content": null,
      "justify_items": null,
      "left": null,
      "margin": null,
      "max_height": null,
      "max_width": null,
      "min_height": null,
      "min_width": null,
      "object_fit": null,
      "object_position": null,
      "order": null,
      "overflow": null,
      "overflow_x": null,
      "overflow_y": null,
      "padding": null,
      "right": null,
      "top": null,
      "visibility": null,
      "width": null
     }
    },
    "01f4c17028f64d9985827717185a3fa8": {
     "model_module": "@jupyter-widgets/base",
     "model_name": "LayoutModel",
     "model_module_version": "1.2.0",
     "state": {
      "_model_module": "@jupyter-widgets/base",
      "_model_module_version": "1.2.0",
      "_model_name": "LayoutModel",
      "_view_count": null,
      "_view_module": "@jupyter-widgets/base",
      "_view_module_version": "1.2.0",
      "_view_name": "LayoutView",
      "align_content": null,
      "align_items": null,
      "align_self": null,
      "border": null,
      "bottom": null,
      "display": null,
      "flex": null,
      "flex_flow": null,
      "grid_area": null,
      "grid_auto_columns": null,
      "grid_auto_flow": null,
      "grid_auto_rows": null,
      "grid_column": null,
      "grid_gap": null,
      "grid_row": null,
      "grid_template_areas": null,
      "grid_template_columns": null,
      "grid_template_rows": null,
      "height": null,
      "justify_content": null,
      "justify_items": null,
      "left": null,
      "margin": null,
      "max_height": null,
      "max_width": null,
      "min_height": null,
      "min_width": null,
      "object_fit": null,
      "object_position": null,
      "order": null,
      "overflow": null,
      "overflow_x": null,
      "overflow_y": null,
      "padding": null,
      "right": null,
      "top": null,
      "visibility": null,
      "width": null
     }
    },
    "248404144072461ca4ca6c6ce32788b1": {
     "model_module": "@jupyter-widgets/controls",
     "model_name": "DescriptionStyleModel",
     "model_module_version": "1.5.0",
     "state": {
      "_model_module": "@jupyter-widgets/controls",
      "_model_module_version": "1.5.0",
      "_model_name": "DescriptionStyleModel",
      "_view_count": null,
      "_view_module": "@jupyter-widgets/base",
      "_view_module_version": "1.2.0",
      "_view_name": "StyleView",
      "description_width": ""
     }
    },
    "01296fe59637491bb1acada4c1a11b46": {
     "model_module": "@jupyter-widgets/base",
     "model_name": "LayoutModel",
     "model_module_version": "1.2.0",
     "state": {
      "_model_module": "@jupyter-widgets/base",
      "_model_module_version": "1.2.0",
      "_model_name": "LayoutModel",
      "_view_count": null,
      "_view_module": "@jupyter-widgets/base",
      "_view_module_version": "1.2.0",
      "_view_name": "LayoutView",
      "align_content": null,
      "align_items": null,
      "align_self": null,
      "border": null,
      "bottom": null,
      "display": null,
      "flex": null,
      "flex_flow": null,
      "grid_area": null,
      "grid_auto_columns": null,
      "grid_auto_flow": null,
      "grid_auto_rows": null,
      "grid_column": null,
      "grid_gap": null,
      "grid_row": null,
      "grid_template_areas": null,
      "grid_template_columns": null,
      "grid_template_rows": null,
      "height": null,
      "justify_content": null,
      "justify_items": null,
      "left": null,
      "margin": null,
      "max_height": null,
      "max_width": null,
      "min_height": null,
      "min_width": null,
      "object_fit": null,
      "object_position": null,
      "order": null,
      "overflow": null,
      "overflow_x": null,
      "overflow_y": null,
      "padding": null,
      "right": null,
      "top": null,
      "visibility": null,
      "width": null
     }
    },
    "a253a6222e2c4bdfbeca366cf98ac362": {
     "model_module": "@jupyter-widgets/controls",
     "model_name": "ProgressStyleModel",
     "model_module_version": "1.5.0",
     "state": {
      "_model_module": "@jupyter-widgets/controls",
      "_model_module_version": "1.5.0",
      "_model_name": "ProgressStyleModel",
      "_view_count": null,
      "_view_module": "@jupyter-widgets/base",
      "_view_module_version": "1.2.0",
      "_view_name": "StyleView",
      "bar_color": null,
      "description_width": ""
     }
    },
    "c3be2e75d8ec4f03a3b2b530998fc04c": {
     "model_module": "@jupyter-widgets/base",
     "model_name": "LayoutModel",
     "model_module_version": "1.2.0",
     "state": {
      "_model_module": "@jupyter-widgets/base",
      "_model_module_version": "1.2.0",
      "_model_name": "LayoutModel",
      "_view_count": null,
      "_view_module": "@jupyter-widgets/base",
      "_view_module_version": "1.2.0",
      "_view_name": "LayoutView",
      "align_content": null,
      "align_items": null,
      "align_self": null,
      "border": null,
      "bottom": null,
      "display": null,
      "flex": null,
      "flex_flow": null,
      "grid_area": null,
      "grid_auto_columns": null,
      "grid_auto_flow": null,
      "grid_auto_rows": null,
      "grid_column": null,
      "grid_gap": null,
      "grid_row": null,
      "grid_template_areas": null,
      "grid_template_columns": null,
      "grid_template_rows": null,
      "height": null,
      "justify_content": null,
      "justify_items": null,
      "left": null,
      "margin": null,
      "max_height": null,
      "max_width": null,
      "min_height": null,
      "min_width": null,
      "object_fit": null,
      "object_position": null,
      "order": null,
      "overflow": null,
      "overflow_x": null,
      "overflow_y": null,
      "padding": null,
      "right": null,
      "top": null,
      "visibility": null,
      "width": null
     }
    },
    "6114a5e9c26c4230882d69a3bbe793f7": {
     "model_module": "@jupyter-widgets/controls",
     "model_name": "DescriptionStyleModel",
     "model_module_version": "1.5.0",
     "state": {
      "_model_module": "@jupyter-widgets/controls",
      "_model_module_version": "1.5.0",
      "_model_name": "DescriptionStyleModel",
      "_view_count": null,
      "_view_module": "@jupyter-widgets/base",
      "_view_module_version": "1.2.0",
      "_view_name": "StyleView",
      "description_width": ""
     }
    },
    "8cbeed07b1974c4786b5a6fc4373b66f": {
     "model_module": "@jupyter-widgets/controls",
     "model_name": "HBoxModel",
     "model_module_version": "1.5.0",
     "state": {
      "_dom_classes": [],
      "_model_module": "@jupyter-widgets/controls",
      "_model_module_version": "1.5.0",
      "_model_name": "HBoxModel",
      "_view_count": null,
      "_view_module": "@jupyter-widgets/controls",
      "_view_module_version": "1.5.0",
      "_view_name": "HBoxView",
      "box_style": "",
      "children": [
       "IPY_MODEL_2ae7a822f67f4686b20359c439e9e1b3",
       "IPY_MODEL_a532479548da43ae813315746b0639ed",
       "IPY_MODEL_bd7e4e4eac6249bf9826b3f918104099"
      ],
      "layout": "IPY_MODEL_061c71f814ce49b9a275a95a3105c5e7"
     }
    },
    "2ae7a822f67f4686b20359c439e9e1b3": {
     "model_module": "@jupyter-widgets/controls",
     "model_name": "HTMLModel",
     "model_module_version": "1.5.0",
     "state": {
      "_dom_classes": [],
      "_model_module": "@jupyter-widgets/controls",
      "_model_module_version": "1.5.0",
      "_model_name": "HTMLModel",
      "_view_count": null,
      "_view_module": "@jupyter-widgets/controls",
      "_view_module_version": "1.5.0",
      "_view_name": "HTMLView",
      "description": "",
      "description_tooltip": null,
      "layout": "IPY_MODEL_49d279364e484068aab29275f85d1784",
      "placeholder": "​",
      "style": "IPY_MODEL_6657849fe4a24e8e947975dfd06646ef",
      "value": "Downloading: 100%"
     }
    },
    "a532479548da43ae813315746b0639ed": {
     "model_module": "@jupyter-widgets/controls",
     "model_name": "FloatProgressModel",
     "model_module_version": "1.5.0",
     "state": {
      "_dom_classes": [],
      "_model_module": "@jupyter-widgets/controls",
      "_model_module_version": "1.5.0",
      "_model_name": "FloatProgressModel",
      "_view_count": null,
      "_view_module": "@jupyter-widgets/controls",
      "_view_module_version": "1.5.0",
      "_view_name": "ProgressView",
      "bar_style": "success",
      "description": "",
      "description_tooltip": null,
      "layout": "IPY_MODEL_e7c37b4458c94859bc54c138e2818989",
      "max": 714314041,
      "min": 0,
      "orientation": "horizontal",
      "style": "IPY_MODEL_fbd3d8de57ea4ce19f1381aee1a9d1b6",
      "value": 714314041
     }
    },
    "bd7e4e4eac6249bf9826b3f918104099": {
     "model_module": "@jupyter-widgets/controls",
     "model_name": "HTMLModel",
     "model_module_version": "1.5.0",
     "state": {
      "_dom_classes": [],
      "_model_module": "@jupyter-widgets/controls",
      "_model_module_version": "1.5.0",
      "_model_name": "HTMLModel",
      "_view_count": null,
      "_view_module": "@jupyter-widgets/controls",
      "_view_module_version": "1.5.0",
      "_view_name": "HTMLView",
      "description": "",
      "description_tooltip": null,
      "layout": "IPY_MODEL_9393f17023c54c8a91b6f9241dbb5949",
      "placeholder": "​",
      "style": "IPY_MODEL_b231ed4aff3c486c8aa44aa50ea16c8d",
      "value": " 714M/714M [00:23&lt;00:00, 38.2MB/s]"
     }
    },
    "061c71f814ce49b9a275a95a3105c5e7": {
     "model_module": "@jupyter-widgets/base",
     "model_name": "LayoutModel",
     "model_module_version": "1.2.0",
     "state": {
      "_model_module": "@jupyter-widgets/base",
      "_model_module_version": "1.2.0",
      "_model_name": "LayoutModel",
      "_view_count": null,
      "_view_module": "@jupyter-widgets/base",
      "_view_module_version": "1.2.0",
      "_view_name": "LayoutView",
      "align_content": null,
      "align_items": null,
      "align_self": null,
      "border": null,
      "bottom": null,
      "display": null,
      "flex": null,
      "flex_flow": null,
      "grid_area": null,
      "grid_auto_columns": null,
      "grid_auto_flow": null,
      "grid_auto_rows": null,
      "grid_column": null,
      "grid_gap": null,
      "grid_row": null,
      "grid_template_areas": null,
      "grid_template_columns": null,
      "grid_template_rows": null,
      "height": null,
      "justify_content": null,
      "justify_items": null,
      "left": null,
      "margin": null,
      "max_height": null,
      "max_width": null,
      "min_height": null,
      "min_width": null,
      "object_fit": null,
      "object_position": null,
      "order": null,
      "overflow": null,
      "overflow_x": null,
      "overflow_y": null,
      "padding": null,
      "right": null,
      "top": null,
      "visibility": null,
      "width": null
     }
    },
    "49d279364e484068aab29275f85d1784": {
     "model_module": "@jupyter-widgets/base",
     "model_name": "LayoutModel",
     "model_module_version": "1.2.0",
     "state": {
      "_model_module": "@jupyter-widgets/base",
      "_model_module_version": "1.2.0",
      "_model_name": "LayoutModel",
      "_view_count": null,
      "_view_module": "@jupyter-widgets/base",
      "_view_module_version": "1.2.0",
      "_view_name": "LayoutView",
      "align_content": null,
      "align_items": null,
      "align_self": null,
      "border": null,
      "bottom": null,
      "display": null,
      "flex": null,
      "flex_flow": null,
      "grid_area": null,
      "grid_auto_columns": null,
      "grid_auto_flow": null,
      "grid_auto_rows": null,
      "grid_column": null,
      "grid_gap": null,
      "grid_row": null,
      "grid_template_areas": null,
      "grid_template_columns": null,
      "grid_template_rows": null,
      "height": null,
      "justify_content": null,
      "justify_items": null,
      "left": null,
      "margin": null,
      "max_height": null,
      "max_width": null,
      "min_height": null,
      "min_width": null,
      "object_fit": null,
      "object_position": null,
      "order": null,
      "overflow": null,
      "overflow_x": null,
      "overflow_y": null,
      "padding": null,
      "right": null,
      "top": null,
      "visibility": null,
      "width": null
     }
    },
    "6657849fe4a24e8e947975dfd06646ef": {
     "model_module": "@jupyter-widgets/controls",
     "model_name": "DescriptionStyleModel",
     "model_module_version": "1.5.0",
     "state": {
      "_model_module": "@jupyter-widgets/controls",
      "_model_module_version": "1.5.0",
      "_model_name": "DescriptionStyleModel",
      "_view_count": null,
      "_view_module": "@jupyter-widgets/base",
      "_view_module_version": "1.2.0",
      "_view_name": "StyleView",
      "description_width": ""
     }
    },
    "e7c37b4458c94859bc54c138e2818989": {
     "model_module": "@jupyter-widgets/base",
     "model_name": "LayoutModel",
     "model_module_version": "1.2.0",
     "state": {
      "_model_module": "@jupyter-widgets/base",
      "_model_module_version": "1.2.0",
      "_model_name": "LayoutModel",
      "_view_count": null,
      "_view_module": "@jupyter-widgets/base",
      "_view_module_version": "1.2.0",
      "_view_name": "LayoutView",
      "align_content": null,
      "align_items": null,
      "align_self": null,
      "border": null,
      "bottom": null,
      "display": null,
      "flex": null,
      "flex_flow": null,
      "grid_area": null,
      "grid_auto_columns": null,
      "grid_auto_flow": null,
      "grid_auto_rows": null,
      "grid_column": null,
      "grid_gap": null,
      "grid_row": null,
      "grid_template_areas": null,
      "grid_template_columns": null,
      "grid_template_rows": null,
      "height": null,
      "justify_content": null,
      "justify_items": null,
      "left": null,
      "margin": null,
      "max_height": null,
      "max_width": null,
      "min_height": null,
      "min_width": null,
      "object_fit": null,
      "object_position": null,
      "order": null,
      "overflow": null,
      "overflow_x": null,
      "overflow_y": null,
      "padding": null,
      "right": null,
      "top": null,
      "visibility": null,
      "width": null
     }
    },
    "fbd3d8de57ea4ce19f1381aee1a9d1b6": {
     "model_module": "@jupyter-widgets/controls",
     "model_name": "ProgressStyleModel",
     "model_module_version": "1.5.0",
     "state": {
      "_model_module": "@jupyter-widgets/controls",
      "_model_module_version": "1.5.0",
      "_model_name": "ProgressStyleModel",
      "_view_count": null,
      "_view_module": "@jupyter-widgets/base",
      "_view_module_version": "1.2.0",
      "_view_name": "StyleView",
      "bar_color": null,
      "description_width": ""
     }
    },
    "9393f17023c54c8a91b6f9241dbb5949": {
     "model_module": "@jupyter-widgets/base",
     "model_name": "LayoutModel",
     "model_module_version": "1.2.0",
     "state": {
      "_model_module": "@jupyter-widgets/base",
      "_model_module_version": "1.2.0",
      "_model_name": "LayoutModel",
      "_view_count": null,
      "_view_module": "@jupyter-widgets/base",
      "_view_module_version": "1.2.0",
      "_view_name": "LayoutView",
      "align_content": null,
      "align_items": null,
      "align_self": null,
      "border": null,
      "bottom": null,
      "display": null,
      "flex": null,
      "flex_flow": null,
      "grid_area": null,
      "grid_auto_columns": null,
      "grid_auto_flow": null,
      "grid_auto_rows": null,
      "grid_column": null,
      "grid_gap": null,
      "grid_row": null,
      "grid_template_areas": null,
      "grid_template_columns": null,
      "grid_template_rows": null,
      "height": null,
      "justify_content": null,
      "justify_items": null,
      "left": null,
      "margin": null,
      "max_height": null,
      "max_width": null,
      "min_height": null,
      "min_width": null,
      "object_fit": null,
      "object_position": null,
      "order": null,
      "overflow": null,
      "overflow_x": null,
      "overflow_y": null,
      "padding": null,
      "right": null,
      "top": null,
      "visibility": null,
      "width": null
     }
    },
    "b231ed4aff3c486c8aa44aa50ea16c8d": {
     "model_module": "@jupyter-widgets/controls",
     "model_name": "DescriptionStyleModel",
     "model_module_version": "1.5.0",
     "state": {
      "_model_module": "@jupyter-widgets/controls",
      "_model_module_version": "1.5.0",
      "_model_name": "DescriptionStyleModel",
      "_view_count": null,
      "_view_module": "@jupyter-widgets/base",
      "_view_module_version": "1.2.0",
      "_view_name": "StyleView",
      "description_width": ""
     }
    },
    "3806ae179b99482a9c3181aa54209675": {
     "model_module": "@jupyter-widgets/controls",
     "model_name": "HBoxModel",
     "model_module_version": "1.5.0",
     "state": {
      "_dom_classes": [],
      "_model_module": "@jupyter-widgets/controls",
      "_model_module_version": "1.5.0",
      "_model_name": "HBoxModel",
      "_view_count": null,
      "_view_module": "@jupyter-widgets/controls",
      "_view_module_version": "1.5.0",
      "_view_name": "HBoxView",
      "box_style": "",
      "children": [
       "IPY_MODEL_07c51ecc31054ef18f549f478857c944",
       "IPY_MODEL_b75869baa48b48d2bb05b4c00ff6eaf9",
       "IPY_MODEL_4fb1704d39f243bca408c63272bd1acb"
      ],
      "layout": "IPY_MODEL_a211f98a49fc4961ab47f8c2a4b2eacf"
     }
    },
    "07c51ecc31054ef18f549f478857c944": {
     "model_module": "@jupyter-widgets/controls",
     "model_name": "HTMLModel",
     "model_module_version": "1.5.0",
     "state": {
      "_dom_classes": [],
      "_model_module": "@jupyter-widgets/controls",
      "_model_module_version": "1.5.0",
      "_model_name": "HTMLModel",
      "_view_count": null,
      "_view_module": "@jupyter-widgets/controls",
      "_view_module_version": "1.5.0",
      "_view_name": "HTMLView",
      "description": "",
      "description_tooltip": null,
      "layout": "IPY_MODEL_998435982aae48bca7e3c2948fee3b6a",
      "placeholder": "​",
      "style": "IPY_MODEL_6aa2533a0ba34265ae422bc864005a38",
      "value": "Downloading: 100%"
     }
    },
    "b75869baa48b48d2bb05b4c00ff6eaf9": {
     "model_module": "@jupyter-widgets/controls",
     "model_name": "FloatProgressModel",
     "model_module_version": "1.5.0",
     "state": {
      "_dom_classes": [],
      "_model_module": "@jupyter-widgets/controls",
      "_model_module_version": "1.5.0",
      "_model_name": "FloatProgressModel",
      "_view_count": null,
      "_view_module": "@jupyter-widgets/controls",
      "_view_module_version": "1.5.0",
      "_view_name": "ProgressView",
      "bar_style": "success",
      "description": "",
      "description_tooltip": null,
      "layout": "IPY_MODEL_e545242a16194fa8b130c4fdb48b795c",
      "max": 995526,
      "min": 0,
      "orientation": "horizontal",
      "style": "IPY_MODEL_992143f81a884b6a9a4dbdb818473089",
      "value": 995526
     }
    },
    "4fb1704d39f243bca408c63272bd1acb": {
     "model_module": "@jupyter-widgets/controls",
     "model_name": "HTMLModel",
     "model_module_version": "1.5.0",
     "state": {
      "_dom_classes": [],
      "_model_module": "@jupyter-widgets/controls",
      "_model_module_version": "1.5.0",
      "_model_name": "HTMLModel",
      "_view_count": null,
      "_view_module": "@jupyter-widgets/controls",
      "_view_module_version": "1.5.0",
      "_view_name": "HTMLView",
      "description": "",
      "description_tooltip": null,
      "layout": "IPY_MODEL_647291e8305040ed9b083c9364f47de3",
      "placeholder": "​",
      "style": "IPY_MODEL_90f76dc3a36145eaa9989c67c4485213",
      "value": " 996k/996k [00:00&lt;00:00, 1.39MB/s]"
     }
    },
    "a211f98a49fc4961ab47f8c2a4b2eacf": {
     "model_module": "@jupyter-widgets/base",
     "model_name": "LayoutModel",
     "model_module_version": "1.2.0",
     "state": {
      "_model_module": "@jupyter-widgets/base",
      "_model_module_version": "1.2.0",
      "_model_name": "LayoutModel",
      "_view_count": null,
      "_view_module": "@jupyter-widgets/base",
      "_view_module_version": "1.2.0",
      "_view_name": "LayoutView",
      "align_content": null,
      "align_items": null,
      "align_self": null,
      "border": null,
      "bottom": null,
      "display": null,
      "flex": null,
      "flex_flow": null,
      "grid_area": null,
      "grid_auto_columns": null,
      "grid_auto_flow": null,
      "grid_auto_rows": null,
      "grid_column": null,
      "grid_gap": null,
      "grid_row": null,
      "grid_template_areas": null,
      "grid_template_columns": null,
      "grid_template_rows": null,
      "height": null,
      "justify_content": null,
      "justify_items": null,
      "left": null,
      "margin": null,
      "max_height": null,
      "max_width": null,
      "min_height": null,
      "min_width": null,
      "object_fit": null,
      "object_position": null,
      "order": null,
      "overflow": null,
      "overflow_x": null,
      "overflow_y": null,
      "padding": null,
      "right": null,
      "top": null,
      "visibility": null,
      "width": null
     }
    },
    "998435982aae48bca7e3c2948fee3b6a": {
     "model_module": "@jupyter-widgets/base",
     "model_name": "LayoutModel",
     "model_module_version": "1.2.0",
     "state": {
      "_model_module": "@jupyter-widgets/base",
      "_model_module_version": "1.2.0",
      "_model_name": "LayoutModel",
      "_view_count": null,
      "_view_module": "@jupyter-widgets/base",
      "_view_module_version": "1.2.0",
      "_view_name": "LayoutView",
      "align_content": null,
      "align_items": null,
      "align_self": null,
      "border": null,
      "bottom": null,
      "display": null,
      "flex": null,
      "flex_flow": null,
      "grid_area": null,
      "grid_auto_columns": null,
      "grid_auto_flow": null,
      "grid_auto_rows": null,
      "grid_column": null,
      "grid_gap": null,
      "grid_row": null,
      "grid_template_areas": null,
      "grid_template_columns": null,
      "grid_template_rows": null,
      "height": null,
      "justify_content": null,
      "justify_items": null,
      "left": null,
      "margin": null,
      "max_height": null,
      "max_width": null,
      "min_height": null,
      "min_width": null,
      "object_fit": null,
      "object_position": null,
      "order": null,
      "overflow": null,
      "overflow_x": null,
      "overflow_y": null,
      "padding": null,
      "right": null,
      "top": null,
      "visibility": null,
      "width": null
     }
    },
    "6aa2533a0ba34265ae422bc864005a38": {
     "model_module": "@jupyter-widgets/controls",
     "model_name": "DescriptionStyleModel",
     "model_module_version": "1.5.0",
     "state": {
      "_model_module": "@jupyter-widgets/controls",
      "_model_module_version": "1.5.0",
      "_model_name": "DescriptionStyleModel",
      "_view_count": null,
      "_view_module": "@jupyter-widgets/base",
      "_view_module_version": "1.2.0",
      "_view_name": "StyleView",
      "description_width": ""
     }
    },
    "e545242a16194fa8b130c4fdb48b795c": {
     "model_module": "@jupyter-widgets/base",
     "model_name": "LayoutModel",
     "model_module_version": "1.2.0",
     "state": {
      "_model_module": "@jupyter-widgets/base",
      "_model_module_version": "1.2.0",
      "_model_name": "LayoutModel",
      "_view_count": null,
      "_view_module": "@jupyter-widgets/base",
      "_view_module_version": "1.2.0",
      "_view_name": "LayoutView",
      "align_content": null,
      "align_items": null,
      "align_self": null,
      "border": null,
      "bottom": null,
      "display": null,
      "flex": null,
      "flex_flow": null,
      "grid_area": null,
      "grid_auto_columns": null,
      "grid_auto_flow": null,
      "grid_auto_rows": null,
      "grid_column": null,
      "grid_gap": null,
      "grid_row": null,
      "grid_template_areas": null,
      "grid_template_columns": null,
      "grid_template_rows": null,
      "height": null,
      "justify_content": null,
      "justify_items": null,
      "left": null,
      "margin": null,
      "max_height": null,
      "max_width": null,
      "min_height": null,
      "min_width": null,
      "object_fit": null,
      "object_position": null,
      "order": null,
      "overflow": null,
      "overflow_x": null,
      "overflow_y": null,
      "padding": null,
      "right": null,
      "top": null,
      "visibility": null,
      "width": null
     }
    },
    "992143f81a884b6a9a4dbdb818473089": {
     "model_module": "@jupyter-widgets/controls",
     "model_name": "ProgressStyleModel",
     "model_module_version": "1.5.0",
     "state": {
      "_model_module": "@jupyter-widgets/controls",
      "_model_module_version": "1.5.0",
      "_model_name": "ProgressStyleModel",
      "_view_count": null,
      "_view_module": "@jupyter-widgets/base",
      "_view_module_version": "1.2.0",
      "_view_name": "StyleView",
      "bar_color": null,
      "description_width": ""
     }
    },
    "647291e8305040ed9b083c9364f47de3": {
     "model_module": "@jupyter-widgets/base",
     "model_name": "LayoutModel",
     "model_module_version": "1.2.0",
     "state": {
      "_model_module": "@jupyter-widgets/base",
      "_model_module_version": "1.2.0",
      "_model_name": "LayoutModel",
      "_view_count": null,
      "_view_module": "@jupyter-widgets/base",
      "_view_module_version": "1.2.0",
      "_view_name": "LayoutView",
      "align_content": null,
      "align_items": null,
      "align_self": null,
      "border": null,
      "bottom": null,
      "display": null,
      "flex": null,
      "flex_flow": null,
      "grid_area": null,
      "grid_auto_columns": null,
      "grid_auto_flow": null,
      "grid_auto_rows": null,
      "grid_column": null,
      "grid_gap": null,
      "grid_row": null,
      "grid_template_areas": null,
      "grid_template_columns": null,
      "grid_template_rows": null,
      "height": null,
      "justify_content": null,
      "justify_items": null,
      "left": null,
      "margin": null,
      "max_height": null,
      "max_width": null,
      "min_height": null,
      "min_width": null,
      "object_fit": null,
      "object_position": null,
      "order": null,
      "overflow": null,
      "overflow_x": null,
      "overflow_y": null,
      "padding": null,
      "right": null,
      "top": null,
      "visibility": null,
      "width": null
     }
    },
    "90f76dc3a36145eaa9989c67c4485213": {
     "model_module": "@jupyter-widgets/controls",
     "model_name": "DescriptionStyleModel",
     "model_module_version": "1.5.0",
     "state": {
      "_model_module": "@jupyter-widgets/controls",
      "_model_module_version": "1.5.0",
      "_model_name": "DescriptionStyleModel",
      "_view_count": null,
      "_view_module": "@jupyter-widgets/base",
      "_view_module_version": "1.2.0",
      "_view_name": "StyleView",
      "description_width": ""
     }
    }
   }
  }
 },
 "nbformat": 4,
 "nbformat_minor": 0
}