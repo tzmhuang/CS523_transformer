{
 "cells": [
  {
   "cell_type": "markdown",
   "metadata": {
    "collapsed": true,
    "pycharm": {
     "name": "#%% md\n"
    }
   },
   "source": [
    "# Preparation"
   ]
  },
  {
   "cell_type": "code",
   "execution_count": 53,
   "metadata": {},
   "outputs": [
    {
     "name": "stdout",
     "output_type": "stream",
     "text": [
      "**** Missing build for a loaded module for Python version \"3.6.9\". \n",
      "Directory does not exist: /share/pkg.7/pytorch/1.10.2/install/lib/SCC/../python3.6/site-packages\n",
      "\n",
      "WARNING: pip is being invoked by an old script wrapper. This will fail in a future version of pip.\n",
      "Please see https://github.com/pypa/pip/issues/5599 for advice on fixing the underlying issue.\n",
      "To avoid this problem you can invoke Python with '-m pip' instead of running pip directly.\n",
      "Requirement already satisfied: spacy in /usr4/dl523/guoyf1/.local/lib/python3.6/site-packages (3.2.4)\n",
      "Requirement already satisfied: tqdm<5.0.0,>=4.38.0 in /usr4/dl523/guoyf1/.local/lib/python3.6/site-packages (from spacy) (4.64.0)\n",
      "Requirement already satisfied: numpy>=1.15.0 in /share/pkg.7/python3/3.6.9/install/lib/python3.6/site-packages/numpy-1.17.2-py3.6-linux-x86_64.egg (from spacy) (1.17.2)\n",
      "Requirement already satisfied: pathy>=0.3.5 in /usr4/dl523/guoyf1/.local/lib/python3.6/site-packages (from spacy) (0.6.1)\n",
      "Requirement already satisfied: click<8.1.0 in /usr4/dl523/guoyf1/.local/lib/python3.6/site-packages (from spacy) (8.0.4)\n",
      "Requirement already satisfied: setuptools in /usr4/dl523/guoyf1/.local/lib/python3.6/site-packages (from spacy) (59.6.0)\n",
      "Requirement already satisfied: srsly<3.0.0,>=2.4.1 in /usr4/dl523/guoyf1/.local/lib/python3.6/site-packages (from spacy) (2.4.3)\n",
      "Requirement already satisfied: packaging>=20.0 in /usr4/dl523/guoyf1/.local/lib/python3.6/site-packages (from spacy) (21.3)\n",
      "Requirement already satisfied: blis<0.8.0,>=0.4.0 in /usr4/dl523/guoyf1/.local/lib/python3.6/site-packages (from spacy) (0.7.7)\n",
      "Requirement already satisfied: thinc<8.1.0,>=8.0.12 in /usr4/dl523/guoyf1/.local/lib/python3.6/site-packages (from spacy) (8.0.15)\n",
      "Requirement already satisfied: wasabi<1.1.0,>=0.8.1 in /usr4/dl523/guoyf1/.local/lib/python3.6/site-packages (from spacy) (0.9.1)\n",
      "Requirement already satisfied: murmurhash<1.1.0,>=0.28.0 in /usr4/dl523/guoyf1/.local/lib/python3.6/site-packages (from spacy) (1.0.6)\n",
      "Requirement already satisfied: jinja2 in /share/pkg.7/python3/3.6.9/install/lib/python3.6/site-packages (from spacy) (2.10.3)\n",
      "Requirement already satisfied: langcodes<4.0.0,>=3.2.0 in /usr4/dl523/guoyf1/.local/lib/python3.6/site-packages (from spacy) (3.3.0)\n",
      "Requirement already satisfied: spacy-legacy<3.1.0,>=3.0.8 in /usr4/dl523/guoyf1/.local/lib/python3.6/site-packages (from spacy) (3.0.9)\n",
      "Requirement already satisfied: typing-extensions<4.0.0.0,>=3.7.4 in /usr4/dl523/guoyf1/.local/lib/python3.6/site-packages (from spacy) (3.10.0.2)\n",
      "Requirement already satisfied: spacy-loggers<2.0.0,>=1.0.0 in /usr4/dl523/guoyf1/.local/lib/python3.6/site-packages (from spacy) (1.0.2)\n",
      "Requirement already satisfied: typer<0.5.0,>=0.3.0 in /usr4/dl523/guoyf1/.local/lib/python3.6/site-packages (from spacy) (0.4.1)\n",
      "Requirement already satisfied: requests<3.0.0,>=2.13.0 in /share/pkg.7/python3/3.6.9/install/lib/python3.6/site-packages (from spacy) (2.22.0)\n",
      "Requirement already satisfied: preshed<3.1.0,>=3.0.2 in /usr4/dl523/guoyf1/.local/lib/python3.6/site-packages (from spacy) (3.0.6)\n",
      "Requirement already satisfied: pydantic!=1.8,!=1.8.1,<1.9.0,>=1.7.4 in /usr4/dl523/guoyf1/.local/lib/python3.6/site-packages (from spacy) (1.8.2)\n",
      "Requirement already satisfied: catalogue<2.1.0,>=2.0.6 in /usr4/dl523/guoyf1/.local/lib/python3.6/site-packages (from spacy) (2.0.7)\n",
      "Requirement already satisfied: cymem<2.1.0,>=2.0.2 in /usr4/dl523/guoyf1/.local/lib/python3.6/site-packages (from spacy) (2.0.6)\n",
      "Requirement already satisfied: zipp>=0.5 in /usr4/dl523/guoyf1/.local/lib/python3.6/site-packages (from catalogue<2.1.0,>=2.0.6->spacy) (3.6.0)\n",
      "Requirement already satisfied: importlib-metadata in /share/pkg.7/python3/3.6.9/install/lib/python3.6/site-packages (from click<8.1.0->spacy) (0.23)\n",
      "Requirement already satisfied: pyparsing!=3.0.5,>=2.0.2 in /share/pkg.7/python3/3.6.9/install/lib/python3.6/site-packages (from packaging>=20.0->spacy) (2.4.2)\n",
      "Requirement already satisfied: dataclasses<1.0,>=0.6 in /usr4/dl523/guoyf1/.local/lib/python3.6/site-packages (from pathy>=0.3.5->spacy) (0.8)\n",
      "Requirement already satisfied: smart-open<6.0.0,>=5.0.0 in /usr4/dl523/guoyf1/.local/lib/python3.6/site-packages (from pathy>=0.3.5->spacy) (5.2.1)\n",
      "Requirement already satisfied: certifi>=2017.4.17 in /share/pkg.7/python3/3.6.9/install/lib/python3.6/site-packages (from requests<3.0.0,>=2.13.0->spacy) (2019.9.11)\n",
      "Requirement already satisfied: idna<2.9,>=2.5 in /share/pkg.7/python3/3.6.9/install/lib/python3.6/site-packages (from requests<3.0.0,>=2.13.0->spacy) (2.8)\n",
      "Requirement already satisfied: urllib3!=1.25.0,!=1.25.1,<1.26,>=1.21.1 in /share/pkg.7/python3/3.6.9/install/lib/python3.6/site-packages (from requests<3.0.0,>=2.13.0->spacy) (1.25.6)\n",
      "Requirement already satisfied: chardet<3.1.0,>=3.0.2 in /share/pkg.7/python3/3.6.9/install/lib/python3.6/site-packages (from requests<3.0.0,>=2.13.0->spacy) (3.0.4)\n",
      "Requirement already satisfied: contextvars<3,>=2.4 in /usr4/dl523/guoyf1/.local/lib/python3.6/site-packages (from thinc<8.1.0,>=8.0.12->spacy) (2.4)\n",
      "Requirement already satisfied: importlib-resources in /usr4/dl523/guoyf1/.local/lib/python3.6/site-packages (from tqdm<5.0.0,>=4.38.0->spacy) (5.4.0)\n",
      "Requirement already satisfied: MarkupSafe>=0.23 in /share/pkg.7/python3/3.6.9/install/lib/python3.6/site-packages (from jinja2->spacy) (1.1.1)\n",
      "Requirement already satisfied: immutables>=0.9 in /usr4/dl523/guoyf1/.local/lib/python3.6/site-packages (from contextvars<3,>=2.4->thinc<8.1.0,>=8.0.12->spacy) (0.17)\n",
      "**** Missing build for a loaded module for Python version \"3.6.9\". \n",
      "Directory does not exist: /share/pkg.7/pytorch/1.10.2/install/lib/SCC/../python3.6/site-packages\n",
      "\n",
      "WARNING: pip is being invoked by an old script wrapper. This will fail in a future version of pip.\n",
      "Please see https://github.com/pypa/pip/issues/5599 for advice on fixing the underlying issue.\n",
      "To avoid this problem you can invoke Python with '-m pip' instead of running pip directly.\n",
      "Requirement already satisfied: import_ipynb in /usr4/dl523/guoyf1/.local/lib/python3.6/site-packages (0.1.3)\n",
      "**** Missing build for a loaded module for Python version \"3.6.9\". \n",
      "Directory does not exist: /share/pkg.7/pytorch/1.10.2/install/lib/SCC/../python3.6/site-packages\n",
      "\n",
      "WARNING: pip is being invoked by an old script wrapper. This will fail in a future version of pip.\n",
      "Please see https://github.com/pypa/pip/issues/5599 for advice on fixing the underlying issue.\n",
      "To avoid this problem you can invoke Python with '-m pip' instead of running pip directly.\n",
      "Requirement already satisfied: torchvision in /usr4/dl523/guoyf1/.local/lib/python3.6/site-packages (0.11.2)\n",
      "Requirement already satisfied: numpy in /share/pkg.7/python3/3.6.9/install/lib/python3.6/site-packages/numpy-1.17.2-py3.6-linux-x86_64.egg (from torchvision) (1.17.2)\n",
      "Requirement already satisfied: pillow!=8.3.0,>=5.3.0 in /share/pkg.7/python3/3.6.9/install/lib/python3.6/site-packages (from torchvision) (6.2.0)\n",
      "Collecting torch==1.10.1\n",
      "  Using cached torch-1.10.1-cp36-cp36m-manylinux1_x86_64.whl (881.9 MB)\n",
      "Requirement already satisfied: dataclasses in /usr4/dl523/guoyf1/.local/lib/python3.6/site-packages (from torch==1.10.1->torchvision) (0.8)\n",
      "Requirement already satisfied: typing-extensions in /usr4/dl523/guoyf1/.local/lib/python3.6/site-packages (from torch==1.10.1->torchvision) (3.10.0.2)\n",
      "Installing collected packages: torch\n",
      "  Attempting uninstall: torch\n",
      "    Found existing installation: torch 1.10.2\n",
      "    Uninstalling torch-1.10.2:\n",
      "      Successfully uninstalled torch-1.10.2\n",
      "\u001b[33m  WARNING: The scripts convert-caffe2-to-onnx, convert-onnx-to-caffe2 and torchrun are installed in '/usr4/dl523/guoyf1/.local/bin' which is not on PATH.\n",
      "  Consider adding this directory to PATH or, if you prefer to suppress this warning, use --no-warn-script-location.\u001b[0m\n",
      "\u001b[31mERROR: pip's dependency resolver does not currently take into account all the packages that are installed. This behaviour is the source of the following dependency conflicts.\n",
      "torchtext 0.11.2 requires torch==1.10.2, but you have torch 1.10.1 which is incompatible.\u001b[0m\n",
      "Successfully installed torch-1.10.1\n",
      "**** Missing build for a loaded module for Python version \"3.6.9\". \n",
      "Directory does not exist: /share/pkg.7/pytorch/1.10.2/install/lib/SCC/../python3.6/site-packages\n",
      "\n"
     ]
    },
    {
     "name": "stdout",
     "output_type": "stream",
     "text": [
      "WARNING: pip is being invoked by an old script wrapper. This will fail in a future version of pip.\n",
      "Please see https://github.com/pypa/pip/issues/5599 for advice on fixing the underlying issue.\n",
      "To avoid this problem you can invoke Python with '-m pip' instead of running pip directly.\n",
      "Requirement already satisfied: torchtext in /usr4/dl523/guoyf1/.local/lib/python3.6/site-packages (0.11.2)\n",
      "Requirement already satisfied: numpy in /share/pkg.7/python3/3.6.9/install/lib/python3.6/site-packages/numpy-1.17.2-py3.6-linux-x86_64.egg (from torchtext) (1.17.2)\n",
      "Requirement already satisfied: requests in /share/pkg.7/python3/3.6.9/install/lib/python3.6/site-packages (from torchtext) (2.22.0)\n",
      "Collecting torch==1.10.2\n",
      "  Using cached torch-1.10.2-cp36-cp36m-manylinux1_x86_64.whl (881.9 MB)\n",
      "Requirement already satisfied: tqdm in /usr4/dl523/guoyf1/.local/lib/python3.6/site-packages (from torchtext) (4.64.0)\n",
      "Requirement already satisfied: dataclasses in /usr4/dl523/guoyf1/.local/lib/python3.6/site-packages (from torch==1.10.2->torchtext) (0.8)\n",
      "Requirement already satisfied: typing-extensions in /usr4/dl523/guoyf1/.local/lib/python3.6/site-packages (from torch==1.10.2->torchtext) (3.10.0.2)\n",
      "Requirement already satisfied: chardet<3.1.0,>=3.0.2 in /share/pkg.7/python3/3.6.9/install/lib/python3.6/site-packages (from requests->torchtext) (3.0.4)\n",
      "Requirement already satisfied: urllib3!=1.25.0,!=1.25.1,<1.26,>=1.21.1 in /share/pkg.7/python3/3.6.9/install/lib/python3.6/site-packages (from requests->torchtext) (1.25.6)\n",
      "Requirement already satisfied: idna<2.9,>=2.5 in /share/pkg.7/python3/3.6.9/install/lib/python3.6/site-packages (from requests->torchtext) (2.8)\n",
      "Requirement already satisfied: certifi>=2017.4.17 in /share/pkg.7/python3/3.6.9/install/lib/python3.6/site-packages (from requests->torchtext) (2019.9.11)\n",
      "Requirement already satisfied: importlib-resources in /usr4/dl523/guoyf1/.local/lib/python3.6/site-packages (from tqdm->torchtext) (5.4.0)\n",
      "Requirement already satisfied: zipp>=3.1.0 in /usr4/dl523/guoyf1/.local/lib/python3.6/site-packages (from importlib-resources->tqdm->torchtext) (3.6.0)\n",
      "Installing collected packages: torch\n",
      "  Attempting uninstall: torch\n",
      "    Found existing installation: torch 1.10.1\n",
      "    Uninstalling torch-1.10.1:\n",
      "      Successfully uninstalled torch-1.10.1\n",
      "\u001b[33m  WARNING: The scripts convert-caffe2-to-onnx, convert-onnx-to-caffe2 and torchrun are installed in '/usr4/dl523/guoyf1/.local/bin' which is not on PATH.\n",
      "  Consider adding this directory to PATH or, if you prefer to suppress this warning, use --no-warn-script-location.\u001b[0m\n",
      "\u001b[31mERROR: pip's dependency resolver does not currently take into account all the packages that are installed. This behaviour is the source of the following dependency conflicts.\n",
      "torchvision 0.11.2 requires torch==1.10.1, but you have torch 1.10.2 which is incompatible.\u001b[0m\n",
      "Successfully installed torch-1.10.2\n"
     ]
    }
   ],
   "source": [
    "!pip install spacy --user\n",
    "!pip install import_ipynb --user\n",
    "!pip install torchvision --user\n",
    "!pip install torchtext --user"
   ]
  },
  {
   "cell_type": "code",
   "execution_count": 54,
   "metadata": {},
   "outputs": [
    {
     "name": "stdout",
     "output_type": "stream",
     "text": [
      "**** Missing build for a loaded module for Python version \"3.6.9\". \n",
      "Directory does not exist: /share/pkg.7/pytorch/1.10.2/install/lib/SCC/../python3.6/site-packages\n",
      "\n",
      "WARNING: pip is being invoked by an old script wrapper. This will fail in a future version of pip.\n",
      "Please see https://github.com/pypa/pip/issues/5599 for advice on fixing the underlying issue.\n",
      "To avoid this problem you can invoke Python with '-m pip' instead of running pip directly.\n",
      "Requirement already satisfied: pip in /usr4/dl523/guoyf1/.local/lib/python3.6/site-packages (21.3.1)\n",
      "**** Missing build for a loaded module for Python version \"3.6.9\". \n",
      "Directory does not exist: /share/pkg.7/pytorch/1.10.2/install/lib/SCC/../python3.6/site-packages\n",
      "\n",
      "WARNING: pip is being invoked by an old script wrapper. This will fail in a future version of pip.\n",
      "Please see https://github.com/pypa/pip/issues/5599 for advice on fixing the underlying issue.\n",
      "To avoid this problem you can invoke Python with '-m pip' instead of running pip directly.\n",
      "Requirement already satisfied: setuptools-rust in /usr4/dl523/guoyf1/.local/lib/python3.6/site-packages (1.1.2)\n",
      "Requirement already satisfied: typing-extensions>=3.7.4.3 in /usr4/dl523/guoyf1/.local/lib/python3.6/site-packages (from setuptools-rust) (3.10.0.2)\n",
      "Requirement already satisfied: semantic-version<3,>=2.8.2 in /usr4/dl523/guoyf1/.local/lib/python3.6/site-packages (from setuptools-rust) (2.9.0)\n",
      "Requirement already satisfied: setuptools>=46.1 in /usr4/dl523/guoyf1/.local/lib/python3.6/site-packages (from setuptools-rust) (59.6.0)\n"
     ]
    }
   ],
   "source": [
    "!pip install --upgrade pip --user\n",
    "!pip install setuptools-rust --user"
   ]
  },
  {
   "cell_type": "code",
   "execution_count": 82,
   "metadata": {},
   "outputs": [
    {
     "name": "stdout",
     "output_type": "stream",
     "text": [
      "\u001b[38;5;2m✔ Download and installation successful\u001b[0m\n",
      "You can now load the package via spacy.load('en_core_web_sm')\n",
      "\u001b[38;5;2m✔ Download and installation successful\u001b[0m\n",
      "You can now load the package via spacy.load('de_core_news_sm')\n"
     ]
    }
   ],
   "source": [
    "from spacy.cli.download import download\n",
    "\n",
    "download(model=\"en_core_web_sm\")\n",
    "download(model=\"de_core_news_sm\")\n"
   ]
  },
  {
   "cell_type": "code",
   "execution_count": 78,
   "metadata": {
    "pycharm": {
     "is_executing": true,
     "name": "#%%\n"
    }
   },
   "outputs": [
    {
     "data": {
      "text/plain": [
       "device(type='cuda')"
      ]
     },
     "execution_count": 78,
     "metadata": {},
     "output_type": "execute_result"
    }
   ],
   "source": [
    "import pickle\n",
    "import torch\n",
    "\n",
    "import torch.nn as nn\n",
    "import torch.optim as optim\n",
    "import spacy\n",
    "\n",
    "import math\n",
    "import time\n",
    "\n",
    "import Transformer\n",
    "from TransformerDataLoader import *\n",
    "\n",
    "device = torch.device('cuda' if torch.cuda.is_available() else 'cpu')\n",
    "device"
   ]
  },
  {
   "cell_type": "code",
   "execution_count": 79,
   "metadata": {
    "pycharm": {
     "name": "#%%\n"
    }
   },
   "outputs": [],
   "source": [
    "save_dir = './wmt17_en_de_processed.pkl'\n",
    "with open(save_dir, 'rb') as f:\n",
    "    data = pickle.load(f)\n",
    "\n",
    "train_dataset, valid_dataset, test_dataset = data['train'],data['valid'],data['test']\n",
    "\n",
    "src_vocab, trg_vocab = data['vocab']['src'], data['vocab']['trg']"
   ]
  },
  {
   "cell_type": "code",
   "execution_count": 80,
   "metadata": {
    "pycharm": {
     "name": "#%%\n"
    }
   },
   "outputs": [
    {
     "name": "stdout",
     "output_type": "stream",
     "text": [
      "training dataset: 4590101\n",
      "validation dataset: 3000\n",
      "testing dataset: 3003\n"
     ]
    }
   ],
   "source": [
    "print(f\"training dataset: {len(train_dataset)}\")\n",
    "print(f\"validation dataset: {len(valid_dataset)}\")\n",
    "print(f\"testing dataset: {len(test_dataset)}\")"
   ]
  },
  {
   "cell_type": "code",
   "execution_count": 81,
   "metadata": {},
   "outputs": [
    {
     "data": {
      "text/plain": [
       "'resumption of the session'"
      ]
     },
     "execution_count": 81,
     "metadata": {},
     "output_type": "execute_result"
    }
   ],
   "source": [
    "train_dataset[0][0]"
   ]
  },
  {
   "cell_type": "code",
   "execution_count": 82,
   "metadata": {
    "pycharm": {
     "name": "#%%\n"
    }
   },
   "outputs": [],
   "source": [
    "spacy_en = spacy.load('en_core_web_sm')\n",
    "spacy_de = spacy.load('de_core_news_sm')\n",
    "\n",
    "def tokenize_de(text):\n",
    "    return [token.text for token in spacy_de.tokenizer(text)]\n",
    "\n",
    "def tokenize_en(text):\n",
    "    return [token.text for token in spacy_en.tokenizer(text)]"
   ]
  },
  {
   "cell_type": "markdown",
   "metadata": {
    "pycharm": {
     "name": "#%% md\n"
    }
   },
   "source": [
    "# Check the batch data"
   ]
  },
  {
   "cell_type": "code",
   "execution_count": 70,
   "metadata": {
    "pycharm": {
     "name": "#%%\n"
    }
   },
   "outputs": [],
   "source": [
    "BATCH_SIZE = 1\n",
    "data_path = \"./wmt17_en_de_processed.pkl\"\n",
    "\n",
    "train_iterator = TransformerDataLoader(data_path, 'train', batch_size=BATCH_SIZE)\n",
    "valid_iterator = TransformerDataLoader(data_path, 'valid', batch_size=BATCH_SIZE)\n",
    "test_iterator = TransformerDataLoader(data_path, 'test', batch_size=BATCH_SIZE)"
   ]
  },
  {
   "cell_type": "code",
   "execution_count": 71,
   "metadata": {
    "pycharm": {
     "name": "#%%\n"
    }
   },
   "outputs": [
    {
     "name": "stdout",
     "output_type": "stream",
     "text": [
      "first batch size: torch.Size([1, 26])\n",
      "first batch size: torch.Size([1, 27])\n",
      "0: 2\n",
      "1: 581434\n",
      "2: 130268\n",
      "3: 83673\n",
      "4: 4983\n",
      "5: 450410\n",
      "6: 158\n",
      "7: 19\n",
      "8: 115116\n",
      "9: 144162\n",
      "10: 13246\n",
      "11: 10051\n",
      "12: 142067\n",
      "13: 105496\n",
      "14: 140930\n",
      "15: 19\n",
      "16: 68889\n",
      "17: 69062\n",
      "18: 36145\n",
      "19: 663371\n",
      "20: 669\n",
      "21: 823440\n",
      "22: 115116\n",
      "23: 1392282\n",
      "24: 39\n",
      "25: 3\n"
     ]
    }
   ],
   "source": [
    "# check for first batch\n",
    "for i, batch in enumerate(train_iterator):\n",
    "    src, trg = next(iter(train_iterator))\n",
    "\n",
    "    print(f\"first batch size: {src.shape}\")\n",
    "    print(f\"first batch size: {trg.shape}\")\n",
    "\n",
    "    for i in range(src.shape[1]):\n",
    "        print(f\"{i}: {src[0][i].item()}\") # the first src sentence\n",
    "\n",
    "    break"
   ]
  },
  {
   "cell_type": "markdown",
   "metadata": {
    "pycharm": {
     "name": "#%% md\n"
    }
   },
   "source": [
    "# Train the model"
   ]
  },
  {
   "cell_type": "code",
   "execution_count": 83,
   "metadata": {
    "pycharm": {
     "name": "#%%\n"
    }
   },
   "outputs": [],
   "source": [
    "dim_model = 256\n",
    "dim_hidden = 512\n",
    "dim_vocab = len(trg_vocab)\n",
    "num_layers = 3\n",
    "num_heads = 8"
   ]
  },
  {
   "cell_type": "code",
   "execution_count": 84,
   "metadata": {},
   "outputs": [],
   "source": [
    "torch.cuda.empty_cache()"
   ]
  },
  {
   "cell_type": "code",
   "execution_count": 85,
   "metadata": {
    "pycharm": {
     "name": "#%%\n"
    }
   },
   "outputs": [
    {
     "ename": "RuntimeError",
     "evalue": "CUDA out of memory. Tried to allocate 2.17 GiB (GPU 0; 15.78 GiB total capacity; 13.06 GiB already allocated; 1.38 GiB free; 13.06 GiB reserved in total by PyTorch) If reserved memory is >> allocated memory try setting max_split_size_mb to avoid fragmentation.  See documentation for Memory Management and PYTORCH_CUDA_ALLOC_CONF",
     "output_type": "error",
     "traceback": [
      "\u001b[0;31m---------------------------------------------------------------------------\u001b[0m",
      "\u001b[0;31mRuntimeError\u001b[0m                              Traceback (most recent call last)",
      "\u001b[0;32m<ipython-input-85-0ae2f27d4467>\u001b[0m in \u001b[0;36m<module>\u001b[0;34m\u001b[0m\n\u001b[0;32m----> 1\u001b[0;31m \u001b[0mmodel\u001b[0m \u001b[0;34m=\u001b[0m \u001b[0mTransformer\u001b[0m\u001b[0;34m.\u001b[0m\u001b[0mTransformerModel\u001b[0m\u001b[0;34m(\u001b[0m\u001b[0mdim_model\u001b[0m\u001b[0;34m,\u001b[0m \u001b[0mdim_hidden\u001b[0m\u001b[0;34m,\u001b[0m \u001b[0mdim_vocab\u001b[0m\u001b[0;34m,\u001b[0m \u001b[0mN\u001b[0m\u001b[0;34m=\u001b[0m\u001b[0mnum_layers\u001b[0m\u001b[0;34m,\u001b[0m \u001b[0mh\u001b[0m\u001b[0;34m=\u001b[0m\u001b[0mnum_heads\u001b[0m\u001b[0;34m)\u001b[0m\u001b[0;34m.\u001b[0m\u001b[0mto\u001b[0m\u001b[0;34m(\u001b[0m\u001b[0mdevice\u001b[0m\u001b[0;34m)\u001b[0m\u001b[0;34m\u001b[0m\u001b[0;34m\u001b[0m\u001b[0m\n\u001b[0m",
      "\u001b[0;32m~/.local/lib/python3.6/site-packages/torch/nn/modules/module.py\u001b[0m in \u001b[0;36mto\u001b[0;34m(self, *args, **kwargs)\u001b[0m\n\u001b[1;32m    897\u001b[0m             \u001b[0;32mreturn\u001b[0m \u001b[0mt\u001b[0m\u001b[0;34m.\u001b[0m\u001b[0mto\u001b[0m\u001b[0;34m(\u001b[0m\u001b[0mdevice\u001b[0m\u001b[0;34m,\u001b[0m \u001b[0mdtype\u001b[0m \u001b[0;32mif\u001b[0m \u001b[0mt\u001b[0m\u001b[0;34m.\u001b[0m\u001b[0mis_floating_point\u001b[0m\u001b[0;34m(\u001b[0m\u001b[0;34m)\u001b[0m \u001b[0;32mor\u001b[0m \u001b[0mt\u001b[0m\u001b[0;34m.\u001b[0m\u001b[0mis_complex\u001b[0m\u001b[0;34m(\u001b[0m\u001b[0;34m)\u001b[0m \u001b[0;32melse\u001b[0m \u001b[0;32mNone\u001b[0m\u001b[0;34m,\u001b[0m \u001b[0mnon_blocking\u001b[0m\u001b[0;34m)\u001b[0m\u001b[0;34m\u001b[0m\u001b[0;34m\u001b[0m\u001b[0m\n\u001b[1;32m    898\u001b[0m \u001b[0;34m\u001b[0m\u001b[0m\n\u001b[0;32m--> 899\u001b[0;31m         \u001b[0;32mreturn\u001b[0m \u001b[0mself\u001b[0m\u001b[0;34m.\u001b[0m\u001b[0m_apply\u001b[0m\u001b[0;34m(\u001b[0m\u001b[0mconvert\u001b[0m\u001b[0;34m)\u001b[0m\u001b[0;34m\u001b[0m\u001b[0;34m\u001b[0m\u001b[0m\n\u001b[0m\u001b[1;32m    900\u001b[0m \u001b[0;34m\u001b[0m\u001b[0m\n\u001b[1;32m    901\u001b[0m     def register_backward_hook(\n",
      "\u001b[0;32m~/.local/lib/python3.6/site-packages/torch/nn/modules/module.py\u001b[0m in \u001b[0;36m_apply\u001b[0;34m(self, fn)\u001b[0m\n\u001b[1;32m    568\u001b[0m     \u001b[0;32mdef\u001b[0m \u001b[0m_apply\u001b[0m\u001b[0;34m(\u001b[0m\u001b[0mself\u001b[0m\u001b[0;34m,\u001b[0m \u001b[0mfn\u001b[0m\u001b[0;34m)\u001b[0m\u001b[0;34m:\u001b[0m\u001b[0;34m\u001b[0m\u001b[0;34m\u001b[0m\u001b[0m\n\u001b[1;32m    569\u001b[0m         \u001b[0;32mfor\u001b[0m \u001b[0mmodule\u001b[0m \u001b[0;32min\u001b[0m \u001b[0mself\u001b[0m\u001b[0;34m.\u001b[0m\u001b[0mchildren\u001b[0m\u001b[0;34m(\u001b[0m\u001b[0;34m)\u001b[0m\u001b[0;34m:\u001b[0m\u001b[0;34m\u001b[0m\u001b[0;34m\u001b[0m\u001b[0m\n\u001b[0;32m--> 570\u001b[0;31m             \u001b[0mmodule\u001b[0m\u001b[0;34m.\u001b[0m\u001b[0m_apply\u001b[0m\u001b[0;34m(\u001b[0m\u001b[0mfn\u001b[0m\u001b[0;34m)\u001b[0m\u001b[0;34m\u001b[0m\u001b[0;34m\u001b[0m\u001b[0m\n\u001b[0m\u001b[1;32m    571\u001b[0m \u001b[0;34m\u001b[0m\u001b[0m\n\u001b[1;32m    572\u001b[0m         \u001b[0;32mdef\u001b[0m \u001b[0mcompute_should_use_set_data\u001b[0m\u001b[0;34m(\u001b[0m\u001b[0mtensor\u001b[0m\u001b[0;34m,\u001b[0m \u001b[0mtensor_applied\u001b[0m\u001b[0;34m)\u001b[0m\u001b[0;34m:\u001b[0m\u001b[0;34m\u001b[0m\u001b[0;34m\u001b[0m\u001b[0m\n",
      "\u001b[0;32m~/.local/lib/python3.6/site-packages/torch/nn/modules/module.py\u001b[0m in \u001b[0;36m_apply\u001b[0;34m(self, fn)\u001b[0m\n\u001b[1;32m    568\u001b[0m     \u001b[0;32mdef\u001b[0m \u001b[0m_apply\u001b[0m\u001b[0;34m(\u001b[0m\u001b[0mself\u001b[0m\u001b[0;34m,\u001b[0m \u001b[0mfn\u001b[0m\u001b[0;34m)\u001b[0m\u001b[0;34m:\u001b[0m\u001b[0;34m\u001b[0m\u001b[0;34m\u001b[0m\u001b[0m\n\u001b[1;32m    569\u001b[0m         \u001b[0;32mfor\u001b[0m \u001b[0mmodule\u001b[0m \u001b[0;32min\u001b[0m \u001b[0mself\u001b[0m\u001b[0;34m.\u001b[0m\u001b[0mchildren\u001b[0m\u001b[0;34m(\u001b[0m\u001b[0;34m)\u001b[0m\u001b[0;34m:\u001b[0m\u001b[0;34m\u001b[0m\u001b[0;34m\u001b[0m\u001b[0m\n\u001b[0;32m--> 570\u001b[0;31m             \u001b[0mmodule\u001b[0m\u001b[0;34m.\u001b[0m\u001b[0m_apply\u001b[0m\u001b[0;34m(\u001b[0m\u001b[0mfn\u001b[0m\u001b[0;34m)\u001b[0m\u001b[0;34m\u001b[0m\u001b[0;34m\u001b[0m\u001b[0m\n\u001b[0m\u001b[1;32m    571\u001b[0m \u001b[0;34m\u001b[0m\u001b[0m\n\u001b[1;32m    572\u001b[0m         \u001b[0;32mdef\u001b[0m \u001b[0mcompute_should_use_set_data\u001b[0m\u001b[0;34m(\u001b[0m\u001b[0mtensor\u001b[0m\u001b[0;34m,\u001b[0m \u001b[0mtensor_applied\u001b[0m\u001b[0;34m)\u001b[0m\u001b[0;34m:\u001b[0m\u001b[0;34m\u001b[0m\u001b[0;34m\u001b[0m\u001b[0m\n",
      "\u001b[0;32m~/.local/lib/python3.6/site-packages/torch/nn/modules/module.py\u001b[0m in \u001b[0;36m_apply\u001b[0;34m(self, fn)\u001b[0m\n\u001b[1;32m    591\u001b[0m             \u001b[0;31m# `with torch.no_grad():`\u001b[0m\u001b[0;34m\u001b[0m\u001b[0;34m\u001b[0m\u001b[0;34m\u001b[0m\u001b[0m\n\u001b[1;32m    592\u001b[0m             \u001b[0;32mwith\u001b[0m \u001b[0mtorch\u001b[0m\u001b[0;34m.\u001b[0m\u001b[0mno_grad\u001b[0m\u001b[0;34m(\u001b[0m\u001b[0;34m)\u001b[0m\u001b[0;34m:\u001b[0m\u001b[0;34m\u001b[0m\u001b[0;34m\u001b[0m\u001b[0m\n\u001b[0;32m--> 593\u001b[0;31m                 \u001b[0mparam_applied\u001b[0m \u001b[0;34m=\u001b[0m \u001b[0mfn\u001b[0m\u001b[0;34m(\u001b[0m\u001b[0mparam\u001b[0m\u001b[0;34m)\u001b[0m\u001b[0;34m\u001b[0m\u001b[0;34m\u001b[0m\u001b[0m\n\u001b[0m\u001b[1;32m    594\u001b[0m             \u001b[0mshould_use_set_data\u001b[0m \u001b[0;34m=\u001b[0m \u001b[0mcompute_should_use_set_data\u001b[0m\u001b[0;34m(\u001b[0m\u001b[0mparam\u001b[0m\u001b[0;34m,\u001b[0m \u001b[0mparam_applied\u001b[0m\u001b[0;34m)\u001b[0m\u001b[0;34m\u001b[0m\u001b[0;34m\u001b[0m\u001b[0m\n\u001b[1;32m    595\u001b[0m             \u001b[0;32mif\u001b[0m \u001b[0mshould_use_set_data\u001b[0m\u001b[0;34m:\u001b[0m\u001b[0;34m\u001b[0m\u001b[0;34m\u001b[0m\u001b[0m\n",
      "\u001b[0;32m~/.local/lib/python3.6/site-packages/torch/nn/modules/module.py\u001b[0m in \u001b[0;36mconvert\u001b[0;34m(t)\u001b[0m\n\u001b[1;32m    895\u001b[0m                 return t.to(device, dtype if t.is_floating_point() or t.is_complex() else None,\n\u001b[1;32m    896\u001b[0m                             non_blocking, memory_format=convert_to_format)\n\u001b[0;32m--> 897\u001b[0;31m             \u001b[0;32mreturn\u001b[0m \u001b[0mt\u001b[0m\u001b[0;34m.\u001b[0m\u001b[0mto\u001b[0m\u001b[0;34m(\u001b[0m\u001b[0mdevice\u001b[0m\u001b[0;34m,\u001b[0m \u001b[0mdtype\u001b[0m \u001b[0;32mif\u001b[0m \u001b[0mt\u001b[0m\u001b[0;34m.\u001b[0m\u001b[0mis_floating_point\u001b[0m\u001b[0;34m(\u001b[0m\u001b[0;34m)\u001b[0m \u001b[0;32mor\u001b[0m \u001b[0mt\u001b[0m\u001b[0;34m.\u001b[0m\u001b[0mis_complex\u001b[0m\u001b[0;34m(\u001b[0m\u001b[0;34m)\u001b[0m \u001b[0;32melse\u001b[0m \u001b[0;32mNone\u001b[0m\u001b[0;34m,\u001b[0m \u001b[0mnon_blocking\u001b[0m\u001b[0;34m)\u001b[0m\u001b[0;34m\u001b[0m\u001b[0;34m\u001b[0m\u001b[0m\n\u001b[0m\u001b[1;32m    898\u001b[0m \u001b[0;34m\u001b[0m\u001b[0m\n\u001b[1;32m    899\u001b[0m         \u001b[0;32mreturn\u001b[0m \u001b[0mself\u001b[0m\u001b[0;34m.\u001b[0m\u001b[0m_apply\u001b[0m\u001b[0;34m(\u001b[0m\u001b[0mconvert\u001b[0m\u001b[0;34m)\u001b[0m\u001b[0;34m\u001b[0m\u001b[0;34m\u001b[0m\u001b[0m\n",
      "\u001b[0;31mRuntimeError\u001b[0m: CUDA out of memory. Tried to allocate 2.17 GiB (GPU 0; 15.78 GiB total capacity; 13.06 GiB already allocated; 1.38 GiB free; 13.06 GiB reserved in total by PyTorch) If reserved memory is >> allocated memory try setting max_split_size_mb to avoid fragmentation.  See documentation for Memory Management and PYTORCH_CUDA_ALLOC_CONF"
     ]
    }
   ],
   "source": [
    "model = Transformer.TransformerModel(dim_model, dim_hidden, dim_vocab, N=num_layers, h=num_heads).to(device)"
   ]
  },
  {
   "cell_type": "code",
   "execution_count": null,
   "metadata": {
    "pycharm": {
     "name": "#%%\n"
    }
   },
   "outputs": [],
   "source": [
    "def count_parameters(model):\n",
    "    return sum(p.numel() for p in model.parameters() if p.requires_grad)\n",
    "\n",
    "print(f'The model has {count_parameters(model)} trainable parameters')"
   ]
  },
  {
   "cell_type": "code",
   "execution_count": null,
   "metadata": {
    "pycharm": {
     "name": "#%%\n"
    }
   },
   "outputs": [],
   "source": [
    "def initialize_weights(m):\n",
    "    if hasattr(m, 'weight') and m.weight.dim() > 1:\n",
    "        nn.init.xavier_uniform_(m.weight.data)\n",
    "\n",
    "model.apply(initialize_weights)"
   ]
  },
  {
   "cell_type": "code",
   "execution_count": null,
   "metadata": {
    "pycharm": {
     "name": "#%%\n"
    }
   },
   "outputs": [],
   "source": [
    "# to index(with padding)\n",
    "from helper import *\n",
    "\n",
    "# Adam optimizer\n",
    "LEARNING_RATE = 0.0005\n",
    "optimizer = torch.optim.Adam(model.parameters(), lr=LEARNING_RATE)\n",
    "\n",
    "# ignore the padding index\n",
    "criterion = nn.CrossEntropyLoss(ignore_index = PAD_IDX)"
   ]
  },
  {
   "cell_type": "code",
   "execution_count": null,
   "metadata": {
    "pycharm": {
     "name": "#%%\n"
    }
   },
   "outputs": [],
   "source": [
    "# train function\n",
    "def train(model, iterator, optimizer, criterion, clip=1):\n",
    "    model.train() # set as train model\n",
    "    epoch_loss = 0\n",
    "\n",
    "    # iterate through whole data set\n",
    "    for i, batch in enumerate(iterator):\n",
    "        src, trg = next(iter(iterator))\n",
    "        src.to(device)\n",
    "        trg.to(device)\n",
    "\n",
    "        optimizer.zero_grad()\n",
    "\n",
    "        # exclude the end of the sentence\n",
    "        # start with the beginning of the sentence\n",
    "        src_padding_mask = Transformer.get_padding_mask(src, PAD_IDX)\n",
    "        trg_padding_mask = Transformer.get_padding_mask(trg, PAD_IDX)\n",
    "        peek_mask = Transformer.get_peek_mask(trg)\n",
    "        output = model(src, trg,src_padding_mask,trg_padding_mask,peek_mask)\n",
    "\n",
    "        # output: [batch size, trg_len - 1, output_dim]\n",
    "        # trg: [batch size, trg_len]\n",
    "        output_dim = output.shape[-1]\n",
    "\n",
    "        output = output.contiguous().view(-1, output_dim)\n",
    "        # Exclude index 0 (<sos>) of output word\n",
    "        trg = trg.contiguous().view(-1)\n",
    "\n",
    "        # output: [batch size * trg_len - 1, output_dim]\n",
    "        # trg: [batch size * trg len - 1]\n",
    "\n",
    "        print(output.shape)\n",
    "        print(trg.shape)\n",
    "        \n",
    "        # calculate the loss\n",
    "        loss = criterion(output, trg)\n",
    "        loss.backward()\n",
    "\n",
    "        # gradient clipping\n",
    "        torch.nn.utils.clip_grad_norm_(model.parameters(), clip)\n",
    "\n",
    "        # update the parameters\n",
    "        optimizer.step()\n",
    "\n",
    "        # calculate total loss\n",
    "        epoch_loss += loss.item()\n",
    "\n",
    "    return epoch_loss / len(iterator)"
   ]
  },
  {
   "cell_type": "code",
   "execution_count": null,
   "metadata": {
    "pycharm": {
     "name": "#%%\n"
    }
   },
   "outputs": [],
   "source": [
    "# evaluation\n",
    "def evaluate(model, iterator, criterion):\n",
    "    model.eval() # change to evaluation mode\n",
    "    epoch_loss = 0\n",
    "\n",
    "    with torch.no_grad():\n",
    "        # Checking the entire evaluation data\n",
    "        for i, batch in enumerate(iterator):\n",
    "            src, trg = next(iter(iterator))\n",
    "            src.to(device)\n",
    "            trg.to(device)\n",
    "\n",
    "            # exclude the end of the sentence\n",
    "            # start with the beginning of the sentence\n",
    "            src_padding_mask = Transformer.get_padding_mask(src, PAD_IDX)\n",
    "            trg_padding_mask = Transformer.get_padding_mask(trg, PAD_IDX)\n",
    "            peek_mask = Transformer.get_peek_mask(trg)\n",
    "            output = model(src, trg[:,:-1],src_padding_mask,trg_padding_mask,peek_mask)\n",
    "\n",
    "            # output: [batch size, trg_len - 1, output_dim]\n",
    "            # trg: [batch size, trg_len]\n",
    "            output_dim = output.shape[-1]\n",
    "\n",
    "            output = output.contiguous().view(-1, output_dim)\n",
    "            # Exclude index 0 (<sos>) of output word\n",
    "            trg = trg[:,1:].contiguous().view(-1)\n",
    "\n",
    "            # output: [batch size * trg_len - 1, output_dim]\n",
    "            # trg: [batch size * trg len - 1]\n",
    "\n",
    "            # calculate the loss\n",
    "            loss = criterion(output, trg)\n",
    "\n",
    "            # calculate total loss\n",
    "            epoch_loss += loss.item()\n",
    "\n",
    "    return epoch_loss / len(iterator)"
   ]
  },
  {
   "cell_type": "code",
   "execution_count": null,
   "metadata": {
    "pycharm": {
     "name": "#%%\n"
    }
   },
   "outputs": [],
   "source": [
    "def epoch_time(start_time, end_time):\n",
    "    elapsed_time = end_time - start_time\n",
    "    elapsed_mins = int(elapsed_time / 60)\n",
    "    elapsed_secs = int(elapsed_time - (elapsed_mins * 60))\n",
    "    return elapsed_mins, elapsed_secs"
   ]
  },
  {
   "cell_type": "markdown",
   "metadata": {
    "pycharm": {
     "name": "#%% md\n"
    }
   },
   "source": [
    "main process"
   ]
  },
  {
   "cell_type": "code",
   "execution_count": null,
   "metadata": {
    "pycharm": {
     "name": "#%%\n"
    }
   },
   "outputs": [],
   "source": [
    "N_EPOCHS = 10\n",
    "CLIP = 1\n",
    "best_valid_loss = float('inf')\n",
    "\n",
    "for epoch in range(N_EPOCHS):\n",
    "    start_time = time.time() # record the start time\n",
    "\n",
    "    train_loss = train(model, train_iterator, optimizer, criterion, CLIP)\n",
    "    valid_loss = evaluate(model, valid_iterator, criterion)\n",
    "\n",
    "    end_time = time.time() # record the end time\n",
    "    epoch_mins, epoch_secs = epoch_time(start_time, end_time)\n",
    "\n",
    "    if valid_loss < best_valid_loss:\n",
    "        best_valid_loss = valid_loss\n",
    "        torch.save(model.state_dict(), 'transformer.pt')\n",
    "\n",
    "    print(f'Epoch: {epoch + 1:02} | Time: {epoch_mins}m {epoch_secs}s')\n",
    "    print(f'\\tTrain Loss: {train_loss:.3f} ')\n",
    "    print(f'\\tValidation Loss: {valid_loss:.3f}')"
   ]
  },
  {
   "cell_type": "code",
   "execution_count": null,
   "metadata": {
    "pycharm": {
     "name": "#%%\n"
    }
   },
   "outputs": [],
   "source": [
    "# test set\n",
    "\n",
    "model.load_state_dict(torch.load('transformer_german_to_english.pt'))\n",
    "\n",
    "test_loss = evaluate(model, test_iterator, criterion)\n",
    "\n",
    "print(f'Test Loss: {test_loss:.3f}')"
   ]
  },
  {
   "cell_type": "markdown",
   "metadata": {
    "pycharm": {
     "name": "#%% md\n"
    }
   },
   "source": [
    "# Visualization"
   ]
  },
  {
   "cell_type": "code",
   "execution_count": null,
   "metadata": {
    "pycharm": {
     "name": "#%%\n"
    }
   },
   "outputs": [],
   "source": [
    "# translation\n",
    "def translate_sentence(sentence, src_field, trg_field, model, device, max_len=50, logging=True):\n",
    "    model.eval() # change into the evaluation mode\n",
    "\n",
    "    if isinstance(sentence, str):\n",
    "        nlp = spacy.load('de')\n",
    "        tokens = [token.text.lower() for token in nlp(sentence)]\n",
    "    else:\n",
    "        tokens = [token.lower() for token in sentence]\n",
    "\n",
    "    # append <sos> token at the beginning and <eos> token at the end\n",
    "    tokens = [src_field.init_token] + tokens + [src_field.eos_token]\n",
    "    if logging:\n",
    "        print(f\"full source token: {tokens}\")\n",
    "\n",
    "    src_indexes = [src_field.vocab.stoi[token] for token in tokens]\n",
    "    if logging:\n",
    "        print(f\"source sentence index: {src_indexes}\")\n",
    "\n",
    "    src_tensor = torch.LongTensor(src_indexes).unsqueeze(0).to(device)\n",
    "\n",
    "    # Create a mask according to the source statement\n",
    "    src_mask = model.make_src_mask(src_tensor)\n",
    "\n",
    "    # Get the output value by putting the source sentence in the encoder\n",
    "    with torch.no_grad():\n",
    "        enc_src = model.Encoder(src_tensor)\n",
    "\n",
    "    # Make sure you have only one <sos> token at first\n",
    "    trg_indexes = [trg_field.vocab.stoi[trg_field.init_token]]\n",
    "\n",
    "    for i in range(max_len):\n",
    "        trg_tensor = torch.LongTensor(trg_indexes).unsqueeze(0).to(device)\n",
    "\n",
    "        # Create a mask according to the output sentence\n",
    "        trg_mask = model.make_trg_mask(trg_tensor)\n",
    "\n",
    "        with torch.no_grad():\n",
    "            output = model.Decoder((trg_tensor, enc_src))\n",
    "\n",
    "        pred_token = output.argmax(2)[:,-1].item()\n",
    "        trg_indexes.append(pred_token) # add to output statement\n",
    "\n",
    "        # The moment you meet <eos>, it ends\n",
    "        if pred_token == trg_field.vocab.stoi[trg_field.eos_token]:\n",
    "            break\n",
    "\n",
    "    #  Convert each output word index to an actual word\n",
    "    trg_tokens = [trg_field.vocab.itos[i] for i in trg_indexes]\n",
    "\n",
    "    # Returns the output statement excluding the first <sos>\n",
    "    return trg_tokens[1:]"
   ]
  }
 ],
 "metadata": {
  "kernelspec": {
   "display_name": "Python 3",
   "language": "python",
   "name": "python3"
  },
  "language_info": {
   "codemirror_mode": {
    "name": "ipython",
    "version": 3
   },
   "file_extension": ".py",
   "mimetype": "text/x-python",
   "name": "python",
   "nbconvert_exporter": "python",
   "pygments_lexer": "ipython3",
   "version": "3.6.9"
  }
 },
 "nbformat": 4,
 "nbformat_minor": 1
}
